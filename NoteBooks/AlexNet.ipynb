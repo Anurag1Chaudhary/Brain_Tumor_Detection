{
  "nbformat": 4,
  "nbformat_minor": 0,
  "metadata": {
    "colab": {
      "provenance": [],
      "mount_file_id": "1gJxUBLQGGC5fdMr1Em-ciBdStTETlG6n",
      "authorship_tag": "ABX9TyON0Z3PqX3D/7qLydCbelYV",
      "include_colab_link": true
    },
    "kernelspec": {
      "name": "python3",
      "display_name": "Python 3"
    },
    "language_info": {
      "name": "python"
    },
    "accelerator": "GPU",
    "gpuClass": "standard"
  },
  "cells": [
    {
      "cell_type": "markdown",
      "metadata": {
        "id": "view-in-github",
        "colab_type": "text"
      },
      "source": [
        "<a href=\"https://colab.research.google.com/github/CodeX-Addy/Brain_Tumor_Detection/blob/main/AlexNet.ipynb\" target=\"_parent\"><img src=\"https://colab.research.google.com/assets/colab-badge.svg\" alt=\"Open In Colab\"/></a>"
      ]
    },
    {
      "cell_type": "code",
      "execution_count": null,
      "metadata": {
        "colab": {
          "base_uri": "https://localhost:8080/"
        },
        "id": "CH2G-QV4sTnI",
        "outputId": "0f5d186e-c989-4c4d-c7b3-e039de14473b"
      },
      "outputs": [
        {
          "output_type": "stream",
          "name": "stdout",
          "text": [
            "['yes', 'no']\n",
            "Types of data found:  2\n"
          ]
        }
      ],
      "source": [
        "import numpy as np \n",
        "import pandas as pd \n",
        "import matplotlib.pyplot as plt\n",
        "import os\n",
        "\n",
        "img_dir = '/content/drive/MyDrive/BTdsYesNo/'\n",
        "\n",
        "dataset_path = os.listdir(img_dir)\n",
        "\n",
        "dataset_category = os.listdir(img_dir)\n",
        "print (dataset_category)  #what kinds of data are in this dataset\n",
        "\n",
        "print(\"Types of data found: \", len(dataset_path))\n"
      ]
    },
    {
      "cell_type": "code",
      "source": [
        "dataset = []\n",
        "\n",
        "for item in dataset_category:\n",
        "    # Get all the file names\n",
        "    all_data = os.listdir(img_dir + '/' +item)\n",
        "\n",
        "    print(all_data)\n",
        "\n",
        " # Add them to the list\n",
        "    for images in all_data:\n",
        "        dataset.append((item, str(img_dir+ '/' +item) + '/' + images))\n",
        "        # print(dataset)"
      ],
      "metadata": {
        "colab": {
          "base_uri": "https://localhost:8080/"
        },
        "id": "wLLuzGuHs7CT",
        "outputId": "45747d86-0561-4723-e4c7-22188125f2bb"
      },
      "execution_count": null,
      "outputs": [
        {
          "output_type": "stream",
          "name": "stdout",
          "text": [
            "['y1279.jpg', 'y1406.jpg', 'y1320.jpg', 'y1388.jpg', 'y127.jpg', 'y1395.jpg', 'y1253.jpg', 'y1232.jpg', 'y1451.jpg', 'y1397.jpg', 'y1188.jpg', 'y1175.jpg', 'y1413.jpg', 'y1441.jpg', 'y1415.jpg', 'y1277.jpg', 'y166.jpg', 'y1428.jpg', 'y1268.jpg', 'y1312.jpg', 'y1310.jpg', 'y1233.jpg', 'y1035.jpg', 'y1077.jpg', 'y1228.jpg', 'y1055.jpg', 'y1123.jpg', 'y1387.jpg', 'y1216.jpg', 'y160.jpg', 'y1182.jpg', 'y1042.jpg', 'y1418.jpg', 'y1416.jpg', 'y1432.jpg', 'y1431.jpg', 'y1001.jpg', 'y1322.jpg', 'y167.jpg', 'y1468.jpg', 'y1189.jpg', 'y1311.jpg', 'y1455.jpg', 'y187.jpg', 'y1373.jpg', 'y162.jpg', 'y150.jpg', 'y1168.jpg', 'y1303.jpg', 'y179.jpg', 'y1007.jpg', 'y1244.jpg', 'y1047.jpg', 'y197.jpg', 'y19.jpg', 'y183.jpg', 'y1020.jpg', 'y189.jpg', 'y1337.jpg', 'y1385.jpg', 'y1090.jpg', 'y1062.jpg', 'y1209.jpg', 'y1420.jpg', 'y1011.jpg', 'y1327.jpg', 'y1270.jpg', 'y1185.jpg', 'y1317.jpg', 'y1033.jpg', 'y1330.jpg', 'y1469.jpg', 'y1379.jpg', 'y1299.jpg', 'y1264.jpg', 'y128.jpg', 'y1472.jpg', 'y1390.jpg', 'y1108.jpg', 'y1153.jpg', 'y184.jpg', 'y1282.jpg', 'y1464.jpg', 'y1292.jpg', 'y164.jpg', 'y1403.jpg', 'y1247.jpg', 'y1382.jpg', 'y1438.jpg', 'y1256.jpg', 'y14.jpg', 'y1354.jpg', 'y1419.jpg', 'y1151.jpg', 'y1427.jpg', 'y1436.jpg', 'y1426.jpg', 'y1300.jpg', 'y100.jpg', 'y1280.jpg', 'y1495.jpg', 'y1359.jpg', 'y178.jpg', 'y121.jpg', 'y1186.jpg', 'y1450.jpg', 'y102.jpg', 'y1362.jpg', 'y1064.jpg', 'y1183.jpg', 'y1073.jpg', 'y1454.jpg', 'y133.jpg', 'y1351.jpg', 'y1314.jpg', 'y1370.jpg', 'y1174.jpg', 'y1094.jpg', 'y1467.jpg', 'y152.jpg', 'y135.jpg', 'y1321.jpg', 'y881.jpg', 'y749.jpg', 'y501.jpg', 'y518.jpg', 'y909.jpg', 'y469.jpg', 'y845.jpg', 'y282.jpg', 'y986.jpg', 'y453.jpg', 'y266.jpg', 'y967.jpg', 'y834.jpg', 'y262.jpg', 'y817.jpg', 'y524.jpg', 'y965.jpg', 'y701.jpg', 'y363.jpg', 'y786.jpg', 'y816.jpg', 'y355.jpg', 'y748.jpg', 'y997.jpg', 'y735.jpg', 'y553.jpg', 'y544.jpg', 'y244.jpg', 'y849.jpg', 'y357.jpg', 'y399.jpg', 'y617.jpg', 'y732.jpg', 'y226.jpg', 'y859.jpg', 'y332.jpg', 'y265.jpg', 'y225.jpg', 'y549.jpg', 'y536.jpg', 'y40.jpg', 'y699.jpg', 'y543.jpg', 'y978.jpg', 'y387.jpg', 'y5.jpg', 'y636.jpg', 'y874.jpg', 'y750.jpg', 'y953.jpg', 'y916.jpg', 'y850.jpg', 'y794.jpg', 'y466.jpg', 'y891.jpg', 'y771.jpg', 'y836.jpg', 'y336.jpg', 'y480.jpg', 'y221.jpg', 'y724.jpg', 'y959.jpg', 'y385.jpg', 'y628.jpg', 'y393.jpg', 'y219.jpg', 'y635.jpg', 'y584.jpg', 'y75.jpg', 'y318.jpg', 'y269.jpg', 'y95.jpg', 'y633.jpg', 'y882.jpg', 'y445.jpg', 'y612.jpg', 'y256.jpg', 'y920.jpg', 'y51.jpg', 'y340.jpg', 'y661.jpg', 'y825.jpg', 'y908.jpg', 'y438.jpg', 'y844.jpg', 'y755.jpg', 'y900.jpg', 'y507.jpg', 'y241.jpg', 'y643.jpg', 'y97.jpg', 'y603.jpg', 'y596.jpg', 'y252.jpg', 'y436.jpg', 'y321.jpg', 'y835.jpg', 'y236.jpg', 'y872.jpg', 'y961.jpg', 'y930.jpg', 'y389.jpg', 'y613.jpg', 'y797.jpg', 'y248.jpg', 'y665.jpg', 'y366.jpg', 'y682.jpg', 'y751.jpg', 'y712.jpg', 'y720.jpg', 'y560.jpg', 'y559.jpg', 'y831.jpg', 'y623.jpg', 'y654.jpg', 'y479.jpg', 'y634.jpg', 'y66.jpg', 'y752.jpg', 'y616.jpg', 'y414.jpg', 'y96.jpg', 'y630.jpg', 'y374.jpg', 'y741.jpg', 'y710.jpg', 'y48.jpg', 'y222.jpg', 'y224.jpg', 'y402.jpg', 'y702.jpg', 'y863.jpg', 'y581.jpg', 'y698.jpg', 'y938.jpg', 'y914.jpg', 'y800.jpg', 'y976.jpg', 'y58.jpg', 'y338.jpg', 'y798.jpg', 'y315.jpg', 'y830.jpg', 'y796.jpg', 'y590.jpg', 'y83.jpg', 'y676.jpg', 'y234.jpg', 'y999.jpg', 'y452.jpg', 'y251.jpg', 'y766.jpg', 'y349.jpg', 'y457.jpg', 'y606.jpg', 'y587.jpg', 'y295.jpg', 'y437.jpg', 'y731.jpg', 'y985.jpg', 'y629.jpg', 'y734.jpg', 'y220.jpg', 'y781.jpg', 'y979.jpg', 'y365.jpg', 'y32.jpg', 'y38.jpg', 'y687.jpg', 'y862.jpg', 'y583.jpg', 'y311.jpg', 'y26.jpg', 'y670.jpg', 'y855.jpg', 'y708.jpg', 'y484.jpg', 'y356.jpg', 'y499.jpg', 'y577.jpg', 'y81.jpg', 'y803.jpg', 'y947.jpg', 'y586.jpg', 'y462.jpg', 'y267.jpg', 'y289.jpg', 'y309.jpg', 'y42.jpg', 'y899.jpg', 'y455.jpg', 'y381.jpg', 'y744.jpg', 'y214.jpg', 'y789.jpg', 'y369.jpg', 'y742.jpg', 'y264.jpg', 'y784.jpg', 'y945.jpg', 'y805.jpg', 'y417.jpg', 'y400.jpg', 'y231.jpg', 'y950.jpg', 'y439.jpg', 'y801.jpg', 'y624.jpg', 'y828.jpg', 'y281.jpg', 'y988.jpg', 'y785.jpg', 'y447.jpg', 'y592.jpg', 'y574.jpg', 'y806.jpg', 'y519.jpg', 'y416.jpg', 'y263.jpg', 'y345.jpg', 'y273.jpg', 'y450.jpg', 'y215.jpg', 'y977.jpg', 'y552.jpg', 'y245.jpg', 'y316.jpg', 'y227.jpg', 'y605.jpg', 'y743.jpg', 'y948.jpg', 'y334.jpg', 'y441.jpg', 'y964.jpg', 'y341.jpg', 'y268.jpg', 'y928.jpg', 'y764.jpg', 'y491.jpg', 'y530.jpg', 'y337.jpg', 'y25.jpg', 'y715.jpg', 'y395.jpg', 'y737.jpg', 'y709.jpg', 'y407.jpg', 'y992.jpg', 'y440.jpg', 'y804.jpg', 'y841.jpg', 'y540.jpg', 'y513.jpg', 'y467.jpg', 'y878.jpg', 'y642.jpg', 'y37.jpg', 'y489.jpg', 'y918.jpg', 'y669.jpg', 'y511.jpg', 'y957.jpg', 'y89.jpg', 'y428.jpg', 'y406.jpg', 'y67.jpg', 'y344.jpg', 'y33.jpg', 'y73.jpg', 'y773.jpg', 'y348.jpg', 'y223.jpg', 'y448.jpg', 'y604.jpg', 'y47.jpg', 'y404.jpg', 'y570.jpg', 'y92.jpg', 'y84.jpg', 'y435.jpg', 'y565.jpg', 'y839.jpg', 'y683.jpg', 'y711.jpg', 'y877.jpg', 'y931.jpg', 'y990.jpg', 'y857.jpg', 'y824.jpg', 'y254.jpg', 'y653.jpg', 'y609.jpg', 'y375.jpg', 'y99.jpg', 'y675.jpg', 'y621.jpg', 'y333.jpg', 'y958.jpg', 'y807.jpg', 'y301.jpg', 'y870.jpg', 'y871.jpg', 'y421.jpg', 'y328.jpg', 'y716.jpg', 'y799.jpg', 'y515.jpg', 'y611.jpg', 'y351.jpg', 'y595.jpg', 'y514.jpg', 'y449.jpg', 'y960.jpg', 'y673.jpg', 'y9.jpg', 'y235.jpg', 'y39.jpg', 'y810.jpg', 'y814.jpg', 'y415.jpg', 'y288.jpg', 'y327.jpg', 'y79.jpg', 'y303.jpg', 'y386.jpg', 'y962.jpg', 'y312.jpg', 'y935.jpg', 'y261.jpg', 'y208.jpg', 'y842.jpg', 'y746.jpg', 'y483.jpg', 'y535.jpg', 'y775.jpg', 'y285.jpg', 'y276.jpg', 'y531.jpg', 'y929.jpg', 'y730.jpg', 'y405.jpg', 'y456.jpg', 'y575.jpg', 'y860.jpg', 'y526.jpg', 'y903.jpg', 'y496.jpg', 'y684.jpg', 'y490.jpg', 'y250.jpg', 'y975.jpg', 'y952.jpg', 'y546.jpg', 'y7.jpg', 'y44.jpg', 'y933.jpg', 'y981.jpg', 'y481.jpg', 'y31.jpg', 'y887.jpg', 'y694.jpg', 'y898.jpg', 'y420.jpg', 'y342.jpg', 'y43.jpg', 'y324.jpg', 'y354.jpg', 'y926.jpg', 'y376.jpg', 'y86.jpg', 'y754.jpg', 'y91.jpg', 'y424.jpg', 'y53.jpg', 'y533.jpg', 'y599.jpg', 'y995.jpg', 'y832.jpg', 'y858.jpg', 'y292.jpg', 'y472.jpg', 'y934.jpg', 'y649.jpg', 'y602.jpg', 'y956.jpg', 'y759.jpg', 'y35.jpg', 'y618.jpg', 'y704.jpg', 'y443.jpg', 'y994.jpg', 'y418.jpg', 'y29.jpg', 'y212.jpg', 'y601.jpg', 'y790.jpg', 'y330.jpg', 'y626.jpg', 'y218.jpg', 'y325.jpg', 'y696.jpg', 'y4.jpg', 'y249.jpg', 'y419.jpg', 'y300.jpg', 'y502.jpg', 'y257.jpg', 'y896.jpg', 'y680.jpg', 'y932.jpg', 'y823.jpg', 'y736.jpg', 'y310.jpg', 'y473.jpg', 'y695.jpg', 'y286.jpg', 'y658.jpg', 'y497.jpg', 'y983.jpg', 'y460.jpg', 'y625.jpg', 'y459.jpg', 'y277.jpg', 'y644.jpg', 'y792.jpg', 'y619.jpg', 'y861.jpg', 'y485.jpg', 'y833.jpg', 'y232.jpg', 'y829.jpg', 'y821.jpg', 'y954.jpg', 'y534.jpg', 'y561.jpg', 'y326.jpg', 'y62.jpg', 'y8.jpg', 'y433.jpg', 'y379.jpg', 'y760.jpg', 'y359.jpg', 'y620.jpg', 'y852.jpg', 'y442.jpg', 'y229.jpg', 'y659.jpg', 'y68.jpg', 'y968.jpg', 'y94.jpg', 'y714.jpg', 'y482.jpg', 'y973.jpg', 'y396.jpg', 'y970.jpg', 'y753.jpg', 'y434.jpg', 'y259.jpg', 'y446.jpg', 'y272.jpg', 'y335.jpg', 'y548.jpg', 'y74.jpg', 'y463.jpg', 'y588.jpg', 'y762.jpg', 'y697.jpg', 'y346.jpg', 'y486.jpg', 'y373.jpg', 'y56.jpg', 'y246.jpg', 'y509.jpg', 'y808.jpg', 'y880.jpg', 'y247.jpg', 'y996.jpg', 'y717.jpg', 'y542.jpg', 'y209.jpg', 'y905.jpg', 'y733.jpg', 'y478.jpg', 'y41.jpg', 'y706.jpg', 'y809.jpg', 'y391.jpg', 'y306.jpg', 'y998.jpg', 'y598.jpg', 'y350.jpg', 'y390.jpg', 'y367.jpg', 'y782.jpg', 'y554.jpg', 'y951.jpg', 'y314.jpg', 'y547.jpg', 'y304.jpg', 'y893.jpg', 'y465.jpg', 'y853.jpg', 'y864.jpg', 'y837.jpg', 'y662.jpg', 'y763.jpg', 'y392.jpg', 'y969.jpg', 'y498.jpg', 'y674.jpg', 'y529.jpg', 'y637.jpg', 'y854.jpg', 'y901.jpg', 'y937.jpg', 'y892.jpg', 'y426.jpg', 'y430.jpg', 'y347.jpg', 'y946.jpg', 'y678.jpg', 'y213.jpg', 'y902.jpg', 'y705.jpg', 'y597.jpg', 'y758.jpg', 'y271.jpg', 'y211.jpg', 'y470.jpg', 'y27.jpg', 'y639.jpg', 'y260.jpg', 'y566.jpg', 'y364.jpg', 'y87.jpg', 'y768.jpg', 'y409.jpg', 'y319.jpg', 'y61.jpg', 'y818.jpg', 'y593.jpg', 'y703.jpg', 'y719.jpg', 'y90.jpg', 'y769.jpg', 'y811.jpg', 'y425.jpg', 'y966.jpg', 'y412.jpg', 'y320.jpg', 'y93.jpg', 'y408.jpg', 'y886.jpg', 'y298.jpg', 'y641.jpg', 'y368.jpg', 'y34.jpg', 'y991.jpg', 'y660.jpg', 'y756.jpg', 'y767.jpg', 'y869.jpg', 'y939.jpg', 'y80.jpg', 'y610.jpg', 'y523.jpg', 'y940.jpg', 'y506.jpg', 'y963.jpg', 'y45.jpg', 'y388.jpg', 'y925.jpg', 'y474.jpg', 'y370.jpg', 'y302.jpg', 'y291.jpg', 'y982.jpg', 'y339.jpg', 'y504.jpg', 'y299.jpg', 'y894.jpg', 'y362.jpg', 'y210.jpg', 'y788.jpg', 'y572.jpg', 'y82.jpg', 'y451.jpg', 'y240.jpg', 'y791.jpg', 'y278.jpg', 'y495.jpg', 'y627.jpg', 'y650.jpg', 'y573.jpg', 'y578.jpg', 'y394.jpg', 'y397.jpg', 'y980.jpg', 'y607.jpg', 'y726.jpg', 'y568.jpg', 'y943.jpg', 'y917.jpg', 'y740.jpg', 'y308.jpg', 'y352.jpg', 'y579.jpg', 'y847.jpg', 'y723.jpg', 'y912.jpg', 'y305.jpg', 'y911.jpg', 'y432.jpg', 'y668.jpg', 'y820.jpg', 'y313.jpg', 'y216.jpg', 'y770.jpg', 'y745.jpg', 'y689.jpg', 'y410.jpg', 'y423.jpg', 'y72.jpg', 'y923.jpg', 'y77.jpg', 'y317.jpg', 'y287.jpg', 'y233.jpg', 'y778.jpg', 'y372.jpg', 'y503.jpg', 'y371.jpg', 'y522.jpg', 'y867.jpg', 'y640.jpg', 'y591.jpg', 'y360.jpg', 'y541.jpg', 'y672.jpg', 'y984.jpg', 'y487.jpg', 'y71.jpg', 'y521.jpg', 'y783.jpg', 'y477.jpg', 'y59.jpg', 'y993.jpg', 'y868.jpg', 'y646.jpg', 'y279.jpg', 'y557.jpg', 'y681.jpg', 'y255.jpg', 'y692.jpg', 'y297.jpg', 'y569.jpg', 'y538.jpg', 'y846.jpg', 'y927.jpg', 'y294.jpg', 'y411.jpg', 'y60.jpg', 'y475.jpg', 'y713.jpg', 'y688.jpg', 'y413.jpg', 'y307.jpg', 'y564.jpg', 'y904.jpg', 'y28.jpg', 'y429.jpg', 'y707.jpg', 'y217.jpg', 'y812.jpg', 'y488.jpg', 'y24.jpg', 'y987.jpg', 'y890.jpg', 'y239.jpg', 'y910.jpg', 'y290.jpg', 'y361.jpg', 'y728.jpg', 'y944.jpg', 'y283.jpg', 'y897.jpg', 'y353.jpg', 'y228.jpg', 'y431.jpg', 'y921.jpg', 'y331.jpg', 'y865.jpg', 'y974.jpg', 'y638.jpg', 'y558.jpg', 'y729.jpg', 'y813.jpg', 'y403.jpg', 'y253.jpg', 'y690.jpg', 'y378.jpg', 'y54.jpg', 'y377.jpg', 'y444.jpg', 'y971.jpg', 'y76.jpg', 'y838.jpg', 'y49.jpg', 'y655.jpg', 'y461.jpg', 'y520.jpg', 'y422.jpg', 'y50.jpg', 'y537.jpg', 'y677.jpg', 'y398.jpg', 'y30.jpg', 'y827.jpg', 'y64.jpg', 'y876.jpg', 'y358.jpg', 'y555.jpg', 'y875.jpg', 'y454.jpg', 'y885.jpg', 'y895.jpg', 'y582.jpg', 'y567.jpg', 'y915.jpg', 'y22.jpg', 'y510.jpg', 'y284.jpg', 'y468.jpg', 'y795.jpg', 'y949.jpg', 'y936.jpg', 'y883.jpg', 'y512.jpg', 'y516.jpg', 'y631.jpg', 'y600.jpg', 'y922.jpg', 'y296.jpg', 'y889.jpg', 'y645.jpg', 'y651.jpg', 'y238.jpg', 'y772.jpg', 'y46.jpg', 'y65.jpg', 'y913.jpg', 'y725.jpg', 'y972.jpg', 'y780.jpg', 'y700.jpg', 'y551.jpg', 'y843.jpg', 'y237.jpg', 'y727.jpg', 'y657.jpg', 'y258.jpg', 'y679.jpg', 'y685.jpg', 'y840.jpg', 'y275.jpg', 'y718.jpg', 'y879.jpg', 'y776.jpg', 'y322.jpg', 'y693.jpg', 'y826.jpg', 'y556.jpg', 'y779.jpg', 'y36.jpg', 'y427.jpg', 'y608.jpg', 'y873.jpg', 'y942.jpg', 'y323.jpg', 'y856.jpg', 'y270.jpg', 'y648.jpg', 'y787.jpg', 'y78.jpg', 'y671.jpg', 'y919.jpg', 'y656.jpg', 'y955.jpg', 'y580.jpg', 'y329.jpg', 'y508.jpg', 'y722.jpg', 'y562.jpg', 'y21.jpg', 'y822.jpg', 'y517.jpg', 'y293.jpg', 'y757.jpg', 'y571.jpg', 'y884.jpg', 'y545.jpg', 'y594.jpg', 'y401.jpg', 'y632.jpg', 'y761.jpg', 'y85.jpg', 'y280.jpg', 'y907.jpg', 'y941.jpg', 'y494.jpg', 'y3.jpg', 'y802.jpg', 'y274.jpg', 'y539.jpg', 'y721.jpg', 'y793.jpg', 'y243.jpg', 'y663.jpg', 'y528.jpg', 'y686.jpg', 'y819.jpg', 'y458.jpg', 'y476.jpg', 'y667.jpg', 'y70.jpg', 'y471.jpg', 'y906.jpg', 'y384.jpg', 'y69.jpg', 'y343.jpg', 'y585.jpg', 'y765.jpg', 'y614.jpg', 'y866.jpg', 'y815.jpg', 'y464.jpg', 'y615.jpg', 'y500.jpg', 'y52.jpg', 'y505.jpg', 'y647.jpg', 'y851.jpg', 'y527.jpg', 'y888.jpg', 'y848.jpg', 'y98.jpg', 'y383.jpg', 'y774.jpg', 'y23.jpg', 'y88.jpg', 'y691.jpg', 'y563.jpg', 'y242.jpg', 'y57.jpg', 'y380.jpg', 'y589.jpg', 'y576.jpg', 'y55.jpg', 'y6.jpg', 'y747.jpg', 'y989.jpg', 'y652.jpg', 'y666.jpg', 'y924.jpg', 'y63.jpg', 'y532.jpg', 'y492.jpg', 'y550.jpg', 'y777.jpg', 'y622.jpg', 'y738.jpg', 'y382.jpg', 'y664.jpg', 'y493.jpg', 'y739.jpg', 'y525.jpg', 'y230.jpg', 'y1369.jpg', 'y15.jpg', 'y1465.jpg', 'y1235.jpg', 'y1074.jpg', 'y1422.jpg', 'y1002.jpg', 'y1234.jpg', 'y1443.jpg', 'y1261.jpg', 'y156.jpg', 'y1115.jpg', 'y1015.jpg', 'y109.jpg', 'y1078.jpg', 'y1291.jpg', 'y1243.jpg', 'y1260.jpg', 'y190.jpg', 'y1071.jpg', 'y1146.jpg', 'y1023.jpg', 'y1067.jpg', 'y1473.jpg', 'y1492.jpg', 'y1296.jpg', 'y1400.jpg', 'y1163.jpg', 'y1018.jpg', 'y1147.jpg', 'y142.jpg', 'y1138.jpg', 'y1155.jpg', 'y159.jpg', 'y194.jpg', 'y110.jpg', 'y1408.jpg', 'y1008.jpg', 'y1179.jpg', 'y1172.jpg', 'y1393.jpg', 'y1203.jpg', 'y1040.jpg', 'y112.jpg', 'y1445.jpg', 'y1392.jpg', 'y1439.jpg', 'y1087.jpg', 'y158.jpg', 'y1360.jpg', 'y18.jpg', 'y1190.jpg', 'y1106.jpg', 'y1407.jpg', 'y1118.jpg', 'y1498.jpg', 'y1122.jpg', 'y1384.jpg', 'y1012.jpg', 'y198.jpg', 'y1066.jpg', 'y1476.jpg', 'y1103.jpg', 'y1019.jpg', 'y191.jpg', 'y1124.jpg', 'y136.jpg', 'y1202.jpg', 'y1331.jpg', 'y1435.jpg', 'y153.jpg', 'y1374.jpg', 'y1333.jpg', 'y1097.jpg', 'y1475.jpg', 'y1231.jpg', 'y1251.jpg', 'y1218.jpg', 'y20.jpg', 'y1136.jpg', 'y1134.jpg', 'y1014.jpg', 'y116.jpg', 'y1083.jpg', 'y1346.jpg', 'y1496.jpg', 'y1056.jpg', 'y1224.jpg', 'y1220.jpg', 'y1150.jpg', 'y1308.jpg', 'y175.jpg', 'y1051.jpg', 'y1341.jpg', 'y1054.jpg', 'y1338.jpg', 'y1313.jpg', 'y1391.jpg', 'y1242.jpg', 'y1335.jpg', 'y1114.jpg', 'y108.jpg', 'y1263.jpg', 'y1380.jpg', 'y1297.jpg', 'y1057.jpg', 'y1029.jpg', 'y1305.jpg', 'y1364.jpg', 'y1164.jpg', 'y1486.jpg', 'y1345.jpg', 'y1414.jpg', 'y1113.jpg', 'y1072.jpg', 'y195.jpg', 'y1141.jpg', 'y1365.jpg', 'y1348.jpg', 'y1184.jpg', 'y1448.jpg', 'y1145.jpg', 'y1100.jpg', 'y1274.jpg', 'y111.jpg', 'y1332.jpg', 'y1283.jpg', 'y17.jpg', 'y1484.jpg', 'y1154.jpg', 'y1177.jpg', 'y1429.jpg', 'y1405.jpg', 'y1479.jpg', 'y1199.jpg', 'y1239.jpg', 'y1323.jpg', 'y1409.jpg', 'y1021.jpg', 'y1026.jpg', 'y2.jpg', 'y1170.jpg', 'y1304.jpg', 'y1301.jpg', 'y1005.jpg', 'y1377.jpg', 'y1173.jpg', 'y1176.jpg', 'y1394.jpg', 'y207.jpg', 'y1483.jpg', 'y1358.jpg', 'y1276.jpg', 'y177.jpg', 'y1121.jpg', 'y1034.jpg', 'y1488.jpg', 'y1031.jpg', 'y1336.jpg', 'y1284.jpg', 'y1082.jpg', 'y1131.jpg', 'y1485.jpg', 'y1225.jpg', 'y1229.jpg', 'y1137.jpg', 'y1424.jpg', 'y1259.jpg', 'y1329.jpg', 'y1255.jpg', 'y1363.jpg', 'y196.jpg', 'y1016.jpg', 'y186.jpg', 'y1389.jpg', 'y122.jpg', 'y1368.jpg', 'y1148.jpg', 'y1139.jpg', 'y1404.jpg', 'y1378.jpg', 'y1241.jpg', 'y1267.jpg', 'y163.jpg', 'y1128.jpg', 'y1306.jpg', 'y1236.jpg', 'y1326.jpg', 'y1159.jpg', 'y1213.jpg', 'y1372.jpg', 'y1161.jpg', 'y1105.jpg', 'y1459.jpg', 'y1466.jpg', 'y1140.jpg', 'y1240.jpg', 'y1366.jpg', 'y137.jpg', 'y1230.jpg', 'y1110.jpg', 'y1095.jpg', 'y1434.jpg', 'y13.jpg', 'y1223.jpg', 'y16.jpg', 'y1449.jpg', 'y123.jpg', 'y105.jpg', 'y1425.jpg', 'y1030.jpg', 'y1004.jpg', 'y1371.jpg', 'y174.jpg', 'y1271.jpg', 'y1316.jpg', 'y1102.jpg', 'y125.jpg', 'y1208.jpg', 'y1288.jpg', 'y1200.jpg', 'y1489.jpg', 'y1452.jpg', 'y1245.jpg', 'y1125.jpg', 'y1458.jpg', 'y129.jpg', 'y1398.jpg', 'y1010.jpg', 'y1309.jpg', 'y201.jpg', 'y1226.jpg', 'y1352.jpg', 'y1355.jpg', 'y1197.jpg', 'y1025.jpg', 'y1061.jpg', 'y119.jpg', 'y1013.jpg', 'y1039.jpg', 'y185.jpg', 'y1038.jpg', 'y1156.jpg', 'y149.jpg', 'y117.jpg', 'y104.jpg', 'y118.jpg', 'y1086.jpg', 'y176.jpg', 'y1347.jpg', 'y1221.jpg', 'y1482.jpg', 'y1201.jpg', 'y1497.jpg', 'y1130.jpg', 'y1166.jpg', 'y1319.jpg', 'y1250.jpg', 'y1144.jpg', 'y1069.jpg', 'y1152.jpg', 'y1356.jpg', 'y169.jpg', 'y1111.jpg', 'y1262.jpg', 'y1474.jpg', 'y1349.jpg', 'y1357.jpg', 'y1053.jpg', 'y1440.jpg', 'y1412.jpg', 'y146.jpg', 'y1457.jpg', 'y1423.jpg', 'y1471.jpg', 'y1119.jpg', 'y1462.jpg', 'y1210.jpg', 'y188.jpg', 'y138.jpg', 'y180.jpg', 'y1142.jpg', 'y1160.jpg', 'y139.jpg', 'y1324.jpg', 'y1198.jpg', 'y1477.jpg', 'y1302.jpg', 'y1430.jpg', 'y1084.jpg', 'y157.jpg', 'y1361.jpg', 'y1214.jpg', 'y1383.jpg', 'y1325.jpg', 'y1386.jpg', 'y1165.jpg', 'y1207.jpg', 'y1104.jpg', 'y1158.jpg', 'y1187.jpg', 'y206.jpg', 'y1219.jpg', 'y170.jpg', 'y1063.jpg', 'y1112.jpg', 'y1065.jpg', 'y1117.jpg', 'y101.jpg', 'y120.jpg', 'y1178.jpg', 'y154.jpg', 'y1396.jpg', 'y1278.jpg', 'y11.jpg', 'y130.jpg', 'y1169.jpg', 'y1285.jpg', 'y1410.jpg', 'y1217.jpg', 'y1272.jpg', 'y1249.jpg', 'y203.jpg', 'y1193.jpg', 'y200.jpg', 'y1022.jpg', 'y1044.jpg', 'y1050.jpg', 'y1447.jpg', 'y145.jpg', 'y1098.jpg', 'y1237.jpg', 'y1442.jpg', 'y107.jpg', 'y1287.jpg', 'y1334.jpg', 'y1049.jpg', 'y1258.jpg', 'y1453.jpg', 'y1052.jpg', 'y1003.jpg', 'y1096.jpg', 'y1328.jpg', 'y1036.jpg', 'y1293.jpg', 'y1041.jpg', 'y1344.jpg', 'y1101.jpg', 'y126.jpg', 'y134.jpg', 'y1195.jpg', 'y1027.jpg', 'y1149.jpg', 'y1211.jpg', 'y1490.jpg', 'y1499.jpg', 'y1075.jpg', 'y1089.jpg', 'y147.jpg', 'y1343.jpg', 'y172.jpg', 'y1009.jpg', 'y1295.jpg', 'y1281.jpg', 'y193.jpg', 'y205.jpg', 'y1494.jpg', 'y1000.jpg', 'y199.jpg', 'y1181.jpg', 'y132.jpg', 'y1048.jpg', 'y1290.jpg', 'y1204.jpg', 'y10.jpg', 'y1353.jpg', 'y1126.jpg', 'y1342.jpg', 'y1192.jpg', 'y1079.jpg', 'y1171.jpg', 'y165.jpg', 'y115.jpg', 'y1058.jpg', 'y1099.jpg', 'y1269.jpg', 'y151.jpg', 'y1120.jpg', 'y1206.jpg', 'y1088.jpg', 'y1196.jpg', 'y1085.jpg', 'y192.jpg', 'y1376.jpg', 'y1076.jpg', 'y1456.jpg', 'y1212.jpg', 'y1024.jpg', 'y1266.jpg', 'y155.jpg', 'y1.jpg', 'y1068.jpg', 'y1411.jpg', 'y1006.jpg', 'y1491.jpg', 'y1433.jpg', 'y1480.jpg', 'y106.jpg', 'y140.jpg', 'y1246.jpg', 'y114.jpg', 'y148.jpg', 'y1028.jpg', 'y0.jpg', 'y1092.jpg', 'y1060.jpg', 'y1180.jpg', 'y1446.jpg', 'y1463.jpg', 'y143.jpg', 'y1481.jpg', 'y1222.jpg', 'y1080.jpg', 'y1417.jpg', 'y1298.jpg', 'y1238.jpg', 'y1227.jpg', 'y1248.jpg', 'y1133.jpg', 'y1135.jpg', 'y168.jpg', 'y1265.jpg', 'y1107.jpg', 'y1252.jpg', 'y161.jpg', 'y1444.jpg', 'y131.jpg', 'y1461.jpg', 'y1205.jpg', 'y113.jpg', 'y1421.jpg', 'y1129.jpg', 'y1037.jpg', 'y1109.jpg', 'y1059.jpg', 'y1375.jpg', 'y144.jpg', 'y1289.jpg', 'y1254.jpg', 'y1091.jpg', 'y1162.jpg', 'y1127.jpg', 'y1402.jpg', 'y1093.jpg', 'y1143.jpg', 'y1350.jpg', 'y1043.jpg', 'y103.jpg', 'y1081.jpg', 'y1294.jpg', 'y1487.jpg', 'y173.jpg', 'y1017.jpg', 'y124.jpg', 'y1478.jpg', 'y1286.jpg', 'y1275.jpg', 'y1437.jpg', 'y1470.jpg', 'y1032.jpg', 'y1132.jpg', 'y1460.jpg', 'y141.jpg', 'y1116.jpg', 'y171.jpg', 'y202.jpg', 'y1157.jpg', 'y1167.jpg', 'y1318.jpg', 'y1315.jpg', 'y1401.jpg', 'y1215.jpg', 'y1273.jpg', 'y182.jpg', 'y181.jpg', 'y1493.jpg', 'y1257.jpg', 'y1399.jpg', 'y1194.jpg', 'y1045.jpg', 'y1191.jpg', 'y1307.jpg', 'y1340.jpg', 'y204.jpg', 'y1367.jpg', 'y1381.jpg', 'y1046.jpg', 'y1070.jpg', 'y1339.jpg', 'y12.jpg']\n",
            "['no1316.jpg', 'no1491.jpg', 'no1073.jpg', 'no1222.jpg', 'no1433.jpg', 'no1119.jpg', 'no252.jpg', 'no1352.jpg', 'no167.jpg', 'no266.jpg', 'no264.jpg', 'no1234.jpg', 'no1354.jpg', 'no1489.jpg', 'no282.jpg', 'no1270.jpg', 'no1335.jpg', 'no143.jpg', 'no1136.jpg', 'no265.jpg', 'no1213.jpg', 'no1111.jpg', 'no1148.jpg', 'no272.jpg', 'no1098.jpg', 'no1392.jpg', 'no109.jpg', 'no1247.jpg', 'no1126.jpg', 'no1287.jpg', 'no1388.jpg', 'no1313.jpg', 'no1240.jpg', 'no1122.jpg', 'no1488.jpg', 'no262.jpg', 'no1095.jpg', 'no271.jpg', 'no1064.jpg', 'no154.jpg', 'no235.jpg', 'no1466.jpg', 'no243.jpg', 'no1495.jpg', 'no288.jpg', 'no1373.jpg', 'no1185.jpg', 'no1471.jpg', 'no233.jpg', 'no1256.jpg', 'no1282.jpg', 'no1118.jpg', 'no1415.jpg', 'no1272.jpg', 'no1191.jpg', 'no1456.jpg', 'no254.jpg', 'no1461.jpg', 'no1176.jpg', 'no240.jpg', 'no22.jpg', 'no1190.jpg', 'no1402.jpg', 'no1298.jpg', 'no1418.jpg', 'no1244.jpg', 'no1333.jpg', 'no253.jpg', 'no184.jpg', 'no145.jpg', 'no230.jpg', 'no1314.jpg', 'no1052.jpg', 'no1394.jpg', 'no1476.jpg', 'no173.jpg', 'no1444.jpg', 'no247.jpg', 'no1236.jpg', 'no1080.jpg', 'no1332.jpg', 'no1188.jpg', 'no1225.jpg', 'no211.jpg', 'no1363.jpg', 'no1478.jpg', 'no1172.jpg', 'no1364.jpg', 'no228.jpg', 'no1404.jpg', 'no1142.jpg', 'no1474.jpg', 'no116.jpg', 'no1327.jpg', 'no1117.jpg', 'no1156.jpg', 'no1186.jpg', 'no1315.jpg', 'no1372.jpg', 'no1180.jpg', 'no1328.jpg', 'no1406.jpg', 'no118.jpg', 'no203.jpg', 'no166.jpg', 'no1195.jpg', 'no1050.jpg', 'no160.jpg', 'no1085.jpg', 'no1462.jpg', 'no153.jpg', 'no1345.jpg', 'no1276.jpg', 'no1165.jpg', 'no1320.jpg', 'no161.jpg', 'no1108.jpg', 'no156.jpg', 'no246.jpg', 'no1278.jpg', 'no1346.jpg', 'no129.jpg', 'no1348.jpg', 'no1311.jpg', 'no1291.jpg', 'no232.jpg', 'no179.jpg', 'no1386.jpg', 'no141.jpg', 'no1088.jpg', 'no1058.jpg', 'no1483.jpg', 'no1154.jpg', 'no1312.jpg', 'no1057.jpg', 'no1432.jpg', 'no1297.jpg', 'no1081.jpg', 'no1179.jpg', 'no1371.jpg', 'no1077.jpg', 'no122.jpg', 'no1443.jpg', 'no1268.jpg', 'no291.jpg', 'no1147.jpg', 'no168.jpg', 'no1356.jpg', 'no1097.jpg', 'no1464.jpg', 'no1498.jpg', 'no1430.jpg', 'no175.jpg', 'no1330.jpg', 'no169.jpg', 'no1378.jpg', 'no1070.jpg', 'no1326.jpg', 'no176.jpg', 'no1477.jpg', 'no234.jpg', 'no297.jpg', 'no1209.jpg', 'no1110.jpg', 'no1061.jpg', 'no194.jpg', 'no1331.jpg', 'no1120.jpg', 'no1441.jpg', 'no1202.jpg', 'no1374.jpg', 'no1375.jpg', 'no1301.jpg', 'no178.jpg', 'no1401.jpg', 'no1273.jpg', 'no1132.jpg', 'no217.jpg', 'no1104.jpg', 'no115.jpg', 'no137.jpg', 'no285.jpg', 'no1390.jpg', 'no1082.jpg', 'no237.jpg', 'no284.jpg', 'no1446.jpg', 'no1479.jpg', 'no1074.jpg', 'no257.jpg', 'no1429.jpg', 'no1323.jpg', 'no1475.jpg', 'no1107.jpg', 'no1125.jpg', 'no1350.jpg', 'no1341.jpg', 'no242.jpg', 'no241.jpg', 'no1087.jpg', 'no1175.jpg', 'no121.jpg', 'no1211.jpg', 'no1245.jpg', 'no1481.jpg', 'no1150.jpg', 'no293.jpg', 'no1153.jpg', 'no1414.jpg', 'no1182.jpg', 'no294.jpg', 'no1208.jpg', 'no1214.jpg', 'no1379.jpg', 'no1196.jpg', 'no147.jpg', 'no1167.jpg', 'no1485.jpg', 'no1056.jpg', 'no190.jpg', 'no107.jpg', 'no300.jpg', 'no694.jpg', 'no382.jpg', 'no371.jpg', 'no652.jpg', 'no451.jpg', 'no71.jpg', 'no790.jpg', 'no514.jpg', 'no762.jpg', 'no554.jpg', 'no754.jpg', 'no354.jpg', 'no728.jpg', 'no8.jpg', 'no714.jpg', 'no468.jpg', 'no358.jpg', 'no664.jpg', 'no758.jpg', 'no741.jpg', 'no309.jpg', 'no306.jpg', 'no574.jpg', 'no645.jpg', 'no742.jpg', 'no312.jpg', 'no765.jpg', 'no330.jpg', 'no380.jpg', 'no719.jpg', 'no646.jpg', 'no627.jpg', 'no414.jpg', 'no769.jpg', 'no512.jpg', 'no359.jpg', 'no598.jpg', 'no329.jpg', 'no781.jpg', 'no635.jpg', 'no718.jpg', 'no701.jpg', 'no555.jpg', 'no789.jpg', 'no617.jpg', 'no446.jpg', 'no729.jpg', 'no661.jpg', 'no483.jpg', 'no771.jpg', 'no493.jpg', 'no673.jpg', 'no684.jpg', 'no366.jpg', 'no649.jpg', 'no588.jpg', 'no469.jpg', 'no538.jpg', 'no67.jpg', 'no599.jpg', 'no545.jpg', 'no587.jpg', 'no784.jpg', 'no524.jpg', 'no751.jpg', 'no565.jpg', 'no415.jpg', 'no348.jpg', 'no53.jpg', 'no705.jpg', 'no750.jpg', 'no535.jpg', 'no625.jpg', 'no318.jpg', 'no63.jpg', 'no338.jpg', 'no695.jpg', 'no696.jpg', 'no55.jpg', 'no715.jpg', 'no778.jpg', 'no654.jpg', 'no700.jpg', 'no674.jpg', 'no76.jpg', 'no340.jpg', 'no801.jpg', 'no70.jpg', 'no494.jpg', 'no746.jpg', 'no679.jpg', 'no716.jpg', 'no482.jpg', 'no526.jpg', 'no780.jpg', 'no510.jpg', 'no795.jpg', 'no788.jpg', 'no365.jpg', 'no602.jpg', 'no543.jpg', 'no388.jpg', 'no710.jpg', 'no511.jpg', 'no774.jpg', 'no688.jpg', 'no417.jpg', 'no311.jpg', 'no59.jpg', 'no328.jpg', 'no62.jpg', 'no633.jpg', 'no419.jpg', 'no406.jpg', 'no389.jpg', 'no4.jpg', 'no744.jpg', 'no396.jpg', 'no726.jpg', 'no761.jpg', 'no764.jpg', 'no611.jpg', 'no394.jpg', 'no304.jpg', 'no786.jpg', 'no440.jpg', 'no671.jpg', 'no686.jpg', 'no513.jpg', 'no712.jpg', 'no717.jpg', 'no724.jpg', 'no605.jpg', 'no489.jpg', 'no473.jpg', 'no399.jpg', 'no775.jpg', 'no537.jpg', 'no585.jpg', 'no445.jpg', 'no313.jpg', 'no798.jpg', 'no560.jpg', 'no672.jpg', 'no31.jpg', 'no342.jpg', 'no458.jpg', 'no392.jpg', 'no376.jpg', 'no630.jpg', 'no657.jpg', 'no43.jpg', 'no386.jpg', 'no595.jpg', 'no474.jpg', 'no476.jpg', 'no41.jpg', 'no702.jpg', 'no48.jpg', 'no357.jpg', 'no655.jpg', 'no337.jpg', 'no678.jpg', 'no370.jpg', 'no693.jpg', 'no571.jpg', 'no39.jpg', 'no471.jpg', 'no541.jpg', 'no631.jpg', 'no408.jpg', 'no613.jpg', 'no777.jpg', 'no58.jpg', 'no416.jpg', 'no428.jpg', 'no316.jpg', 'no412.jpg', 'no378.jpg', 'no572.jpg', 'no372.jpg', 'no303.jpg', 'no723.jpg', 'no653.jpg', 'no637.jpg', 'no44.jpg', 'no785.jpg', 'no499.jpg', 'no622.jpg', 'no387.jpg', 'no498.jpg', 'no305.jpg', 'no642.jpg', 'no740.jpg', 'no566.jpg', 'no739.jpg', 'no748.jpg', 'no51.jpg', 'no413.jpg', 'no638.jpg', 'no548.jpg', 'no341.jpg', 'no40.jpg', 'no66.jpg', 'no659.jpg', 'no452.jpg', 'no69.jpg', 'no722.jpg', 'no620.jpg', 'no418.jpg', 'no713.jpg', 'no530.jpg', 'no743.jpg', 'no465.jpg', 'no607.jpg', 'no596.jpg', 'no608.jpg', 'no410.jpg', 'no544.jpg', 'no592.jpg', 'no320.jpg', 'no480.jpg', 'no299.jpg', 'no532.jpg', 'no464.jpg', 'no552.jpg', 'no670.jpg', 'no656.jpg', 'no332.jpg', 'no390.jpg', 'no760.jpg', 'no435.jpg', 'no644.jpg', 'no437.jpg', 'no590.jpg', 'no335.jpg', 'no578.jpg', 'no804.jpg', 'no350.jpg', 'no600.jpg', 'no47.jpg', 'no79.jpg', 'no461.jpg', 'no375.jpg', 'no793.jpg', 'no403.jpg', 'no490.jpg', 'no455.jpg', 'no343.jpg', 'no796.jpg', 'no401.jpg', 'no457.jpg', 'no449.jpg', 'no478.jpg', 'no703.jpg', 'no45.jpg', 'no315.jpg', 'no562.jpg', 'no711.jpg', 'no632.jpg', 'no690.jpg', 'no667.jpg', 'no487.jpg', 'no791.jpg', 'no523.jpg', 'no542.jpg', 'no505.jpg', 'no768.jpg', 'no409.jpg', 'no805.jpg', 'no666.jpg', 'no374.jpg', 'no453.jpg', 'no624.jpg', 'no699.jpg', 'no432.jpg', 'no57.jpg', 'no421.jpg', 'no612.jpg', 'no486.jpg', 'no586.jpg', 'no466.jpg', 'no651.jpg', 'no424.jpg', 'no640.jpg', 'no759.jpg', 'no80.jpg', 'no619.jpg', 'no509.jpg', 'no425.jpg', 'no687.jpg', 'no503.jpg', 'no772.jpg', 'no614.jpg', 'no325.jpg', 'no344.jpg', 'no352.jpg', 'no648.jpg', 'no747.jpg', 'no60.jpg', 'no68.jpg', 'no706.jpg', 'no369.jpg', 'no732.jpg', 'no34.jpg', 'no658.jpg', 'no364.jpg', 'no500.jpg', 'no327.jpg', 'no731.jpg', 'no423.jpg', 'no6.jpg', 'no479.jpg', 'no411.jpg', 'no677.jpg', 'no603.jpg', 'no569.jpg', 'no308.jpg', 'no49.jpg', 'no35.jpg', 'no634.jpg', 'no65.jpg', 'no314.jpg', 'no400.jpg', 'no692.jpg', 'no46.jpg', 'no488.jpg', 'no454.jpg', 'no501.jpg', 'no589.jpg', 'no326.jpg', 'no675.jpg', 'no460.jpg', 'no518.jpg', 'no582.jpg', 'no485.jpg', 'no515.jpg', 'no395.jpg', 'no475.jpg', 'no356.jpg', 'no579.jpg', 'no38.jpg', 'no450.jpg', 'no689.jpg', 'no668.jpg', 'no753.jpg', 'no381.jpg', 'no462.jpg', 'no349.jpg', 'no697.jpg', 'no737.jpg', 'no346.jpg', 'no779.jpg', 'no373.jpg', 'no546.jpg', 'no448.jpg', 'no496.jpg', 'no504.jpg', 'no669.jpg', 'no755.jpg', 'no787.jpg', 'no322.jpg', 'no749.jpg', 'no618.jpg', 'no682.jpg', 'no577.jpg', 'no528.jpg', 'no302.jpg', 'no522.jpg', 'no30.jpg', 'no639.jpg', 'no767.jpg', 'no797.jpg', 'no298.jpg', 'no776.jpg', 'no593.jpg', 'no360.jpg', 'no407.jpg', 'no36.jpg', 'no641.jpg', 'no665.jpg', 'no756.jpg', 'no301.jpg', 'no752.jpg', 'no738.jpg', 'no623.jpg', 'no564.jpg', 'no77.jpg', 'no492.jpg', 'no553.jpg', 'no643.jpg', 'no33.jpg', 'no567.jpg', 'no520.jpg', 'no50.jpg', 'no402.jpg', 'no570.jpg', 'no757.jpg', 'no507.jpg', 'no491.jpg', 'no72.jpg', 'no368.jpg', 'no597.jpg', 'no763.jpg', 'no502.jpg', 'no621.jpg', 'no324.jpg', 'no336.jpg', 'no438.jpg', 'no782.jpg', 'no591.jpg', 'no467.jpg', 'no363.jpg', 'no550.jpg', 'no339.jpg', 'no559.jpg', 'no539.jpg', 'no444.jpg', 'no766.jpg', 'no42.jpg', 'no547.jpg', 'no484.jpg', 'no601.jpg', 'no397.jpg', 'no516.jpg', 'no525.jpg', 'no584.jpg', 'no61.jpg', 'no735.jpg', 'no433.jpg', 'no377.jpg', 'no730.jpg', 'no429.jpg', 'no580.jpg', 'no362.jpg', 'no436.jpg', 'no317.jpg', 'no508.jpg', 'no472.jpg', 'no733.jpg', 'no3.jpg', 'no558.jpg', 'no379.jpg', 'no54.jpg', 'no727.jpg', 'no615.jpg', 'no75.jpg', 'no606.jpg', 'no323.jpg', 'no383.jpg', 'no441.jpg', 'no533.jpg', 'no576.jpg', 'no32.jpg', 'no398.jpg', 'no321.jpg', 'no430.jpg', 'no529.jpg', 'no685.jpg', 'no470.jpg', 'no725.jpg', 'no540.jpg', 'no704.jpg', 'no698.jpg', 'no563.jpg', 'no660.jpg', 'no536.jpg', 'no783.jpg', 'no447.jpg', 'no310.jpg', 'no7.jpg', 'no334.jpg', 'no628.jpg', 'no636.jpg', 'no650.jpg', 'no443.jpg', 'no319.jpg', 'no720.jpg', 'no736.jpg', 'no802.jpg', 'no721.jpg', 'no676.jpg', 'no459.jpg', 'no581.jpg', 'no663.jpg', 'no707.jpg', 'no531.jpg', 'no426.jpg', 'no56.jpg', 'no799.jpg', 'no708.jpg', 'no573.jpg', 'no367.jpg', 'no456.jpg', 'no709.jpg', 'no333.jpg', 'no52.jpg', 'no355.jpg', 'no78.jpg', 'no345.jpg', 'no439.jpg', 'no481.jpg', 'no506.jpg', 'no73.jpg', 'no792.jpg', 'no803.jpg', 'no5.jpg', 'no683.jpg', 'no594.jpg', 'no351.jpg', 'no680.jpg', 'no517.jpg', 'no331.jpg', 'no477.jpg', 'no404.jpg', 'no405.jpg', 'no662.jpg', 'no434.jpg', 'no745.jpg', 'no556.jpg', 'no806.jpg', 'no626.jpg', 'no353.jpg', 'no384.jpg', 'no37.jpg', 'no391.jpg', 'no551.jpg', 'no521.jpg', 'no629.jpg', 'no557.jpg', 'no534.jpg', 'no773.jpg', 'no681.jpg', 'no610.jpg', 'no800.jpg', 'no422.jpg', 'no442.jpg', 'no519.jpg', 'no347.jpg', 'no568.jpg', 'no770.jpg', 'no609.jpg', 'no691.jpg', 'no64.jpg', 'no431.jpg', 'no74.jpg', 'no549.jpg', 'no495.jpg', 'no463.jpg', 'no583.jpg', 'no497.jpg', 'no616.jpg', 'no561.jpg', 'no420.jpg', 'no794.jpg', 'no385.jpg', 'no393.jpg', 'no734.jpg', 'no427.jpg', 'no575.jpg', 'no604.jpg', 'no361.jpg', 'no647.jpg', 'no527.jpg', 'no307.jpg', 'no899.jpg', 'no835.jpg', 'no896.jpg', 'no861.jpg', 'no922.jpg', 'no889.jpg', 'no95.jpg', 'no851.jpg', 'no905.jpg', 'no812.jpg', 'no829.jpg', 'no862.jpg', 'no825.jpg', 'no863.jpg', 'no925.jpg', 'no848.jpg', 'no915.jpg', 'no893.jpg', 'no983.jpg', 'no818.jpg', 'no846.jpg', 'no948.jpg', 'no859.jpg', 'no849.jpg', 'no87.jpg', 'no949.jpg', 'no957.jpg', 'no852.jpg', 'no809.jpg', 'no864.jpg', 'no840.jpg', 'no810.jpg', 'no999.jpg', 'no974.jpg', 'no987.jpg', 'no892.jpg', 'no904.jpg', 'no900.jpg', 'no960.jpg', 'no943.jpg', 'no997.jpg', 'no985.jpg', 'no945.jpg', 'no867.jpg', 'no976.jpg', 'no950.jpg', 'no940.jpg', 'no853.jpg', 'no880.jpg', 'no89.jpg', 'no868.jpg', 'no919.jpg', 'no928.jpg', 'no910.jpg', 'no964.jpg', 'no992.jpg', 'no995.jpg', 'no916.jpg', 'no98.jpg', 'no962.jpg', 'no909.jpg', 'no927.jpg', 'no952.jpg', 'no980.jpg', 'no873.jpg', 'no932.jpg', 'no81.jpg', 'no85.jpg', 'no993.jpg', 'no954.jpg', 'no918.jpg', 'no870.jpg', 'no902.jpg', 'no882.jpg', 'no903.jpg', 'no838.jpg', 'no970.jpg', 'no941.jpg', 'no923.jpg', 'no929.jpg', 'no935.jpg', 'no963.jpg', 'no822.jpg', 'no886.jpg', 'no971.jpg', 'no979.jpg', 'no917.jpg', 'no989.jpg', 'no901.jpg', 'no841.jpg', 'no933.jpg', 'no920.jpg', 'no998.jpg', 'no942.jpg', 'no944.jpg', 'no934.jpg', 'no884.jpg', 'no878.jpg', 'no888.jpg', 'no938.jpg', 'no897.jpg', 'no872.jpg', 'no951.jpg', 'no885.jpg', 'no894.jpg', 'no982.jpg', 'no994.jpg', 'no907.jpg', 'no877.jpg', 'no99.jpg', 'no958.jpg', 'no843.jpg', 'no953.jpg', 'no88.jpg', 'no855.jpg', 'no937.jpg', 'no94.jpg', 'no912.jpg', 'no883.jpg', 'no811.jpg', 'no879.jpg', 'no847.jpg', 'no90.jpg', 'no842.jpg', 'no956.jpg', 'no815.jpg', 'no844.jpg', 'no955.jpg', 'no966.jpg', 'no881.jpg', 'no83.jpg', 'no854.jpg', 'no824.jpg', 'no967.jpg', 'no921.jpg', 'no874.jpg', 'no936.jpg', 'no986.jpg', 'no826.jpg', 'no947.jpg', 'no969.jpg', 'no887.jpg', 'no965.jpg', 'no831.jpg', 'no814.jpg', 'no898.jpg', 'no820.jpg', 'no991.jpg', 'no9.jpg', 'no807.jpg', 'no876.jpg', 'no856.jpg', 'no913.jpg', 'no871.jpg', 'no926.jpg', 'no816.jpg', 'no808.jpg', 'no908.jpg', 'no93.jpg', 'no911.jpg', 'no850.jpg', 'no914.jpg', 'no981.jpg', 'no978.jpg', 'no857.jpg', 'no895.jpg', 'no875.jpg', 'no833.jpg', 'no961.jpg', 'no988.jpg', 'no924.jpg', 'no91.jpg', 'no830.jpg', 'no866.jpg', 'no946.jpg', 'no834.jpg', 'no977.jpg', 'no823.jpg', 'no832.jpg', 'no931.jpg', 'no996.jpg', 'no817.jpg', 'no821.jpg', 'no891.jpg', 'no97.jpg', 'no819.jpg', 'no906.jpg', 'no813.jpg', 'no837.jpg', 'no860.jpg', 'no939.jpg', 'no839.jpg', 'no845.jpg', 'no92.jpg', 'no959.jpg', 'no890.jpg', 'no972.jpg', 'no836.jpg', 'no82.jpg', 'no975.jpg', 'no96.jpg', 'no828.jpg', 'no968.jpg', 'no827.jpg', 'no990.jpg', 'no865.jpg', 'no869.jpg', 'no84.jpg', 'no858.jpg', 'no930.jpg', 'no86.jpg', 'no973.jpg', 'no984.jpg', 'no103.jpg', 'no1038.jpg', 'No17.jpg', 'no0.jpg', 'no101.jpg', 'no1020.jpg', 'no1039.jpg', 'no1027.jpg', 'no1040.jpg', 'No19.jpg', 'no1018.jpg', 'no1034.jpg', 'no1014.jpg', 'no1007.jpg', 'no1030.jpg', 'no1026.jpg', 'no1028.jpg', 'no1006.jpg', 'no1010.jpg', 'no1037.jpg', 'no1035.jpg', 'no1009.jpg', 'no104.jpg', 'no105.jpg', 'no1002.jpg', 'no1041.jpg', 'No13.jpg', 'no1032.jpg', 'no1033.jpg', 'no1.jpg', 'no1022.jpg', 'no1024.jpg', 'no1000.jpg', 'No15.jpg', 'no1049.jpg', 'no1001.jpg', 'no1045.jpg', 'no1004.jpg', 'no1046.jpg', 'no1048.jpg', 'no1016.jpg', 'no1025.jpg', 'no1003.jpg', 'No18.jpg', 'no1029.jpg', 'no1012.jpg', 'no1011.jpg', 'no1047.jpg', 'no1017.jpg', 'no102.jpg', 'no1043.jpg', 'no100.jpg', 'no1013.jpg', 'No14.jpg', 'no1036.jpg', 'no1042.jpg', 'no1019.jpg', 'no10.jpg', 'no1005.jpg', 'No12.jpg', 'no1031.jpg', 'no1008.jpg', 'no1021.jpg', 'no1044.jpg', 'no1023.jpg', 'no1015.jpg', 'no1207.jpg', 'no126.jpg', 'no1069.jpg', 'no1294.jpg', 'no1197.jpg', 'no1337.jpg', 'no164.jpg', 'no1250.jpg', 'no27.jpg', 'no1290.jpg', 'no201.jpg', 'no1422.jpg', 'no180.jpg', 'no1463.jpg', 'no1460.jpg', 'no239.jpg', 'no1217.jpg', 'no200.jpg', 'no295.jpg', 'no1353.jpg', 'no1112.jpg', 'no219.jpg', 'no136.jpg', 'no1431.jpg', 'no1254.jpg', 'no1382.jpg', 'no1411.jpg', 'no1438.jpg', 'no1349.jpg', 'no1068.jpg', 'no148.jpg', 'no199.jpg', 'no1134.jpg', 'no1114.jpg', 'no1145.jpg', 'no1149.jpg', 'no1421.jpg', 'no1078.jpg', 'no1480.jpg', 'no1146.jpg', 'no1092.jpg', 'no1409.jpg', 'no1221.jpg', 'no212.jpg', 'no286.jpg', 'no1201.jpg', 'no1253.jpg', 'no1310.jpg', 'no1286.jpg', 'no1465.jpg', 'no1487.jpg', 'no1493.jpg', 'no120.jpg', 'no1359.jpg', 'no1280.jpg', 'no1447.jpg', 'no258.jpg', 'no1267.jpg', 'no1266.jpg', 'no134.jpg', 'no1358.jpg', 'no1452.jpg', 'no1259.jpg', 'no1329.jpg', 'no150.jpg', 'no1387.jpg', 'no1096.jpg', 'no125.jpg', 'no1246.jpg', 'no1151.jpg', 'no224.jpg', 'no1138.jpg', 'no1053.jpg', 'no210.jpg', 'no1152.jpg', 'no1283.jpg', 'no1435.jpg', 'no276.jpg', 'no1368.jpg', 'no1071.jpg', 'no1166.jpg', 'no140.jpg', 'no221.jpg', 'no1116.jpg', 'no2.jpg', 'no110.jpg', 'no206.jpg', 'no183.jpg', 'no1101.jpg', 'no238.jpg', 'no1318.jpg', 'no132.jpg', 'no1079.jpg', 'no1251.jpg', 'no1482.jpg', 'no209.jpg', 'no1115.jpg', 'no185.jpg', 'no1407.jpg', 'no208.jpg', 'no196.jpg', 'no245.jpg', 'no1271.jpg', 'no1075.jpg', 'no1454.jpg', 'no1106.jpg', 'no128.jpg', 'no215.jpg', 'no1365.jpg', 'no278.jpg', 'no159.jpg', 'no1473.jpg', 'no1295.jpg', 'no1169.jpg', 'no163.jpg', 'no130.jpg', 'no192.jpg', 'no1059.jpg', 'no279.jpg', 'no248.jpg', 'no170.jpg', 'no1127.jpg', 'no1468.jpg', 'no1159.jpg', 'no205.jpg', 'no1076.jpg', 'no1376.jpg', 'no1204.jpg', 'no144.jpg', 'no1133.jpg', 'no1183.jpg', 'no1277.jpg', 'no1367.jpg', 'no28.jpg', 'no149.jpg', 'no1160.jpg', 'no1193.jpg', 'no1403.jpg', 'no1220.jpg', 'no1275.jpg', 'no260.jpg', 'no1139.jpg', 'no1198.jpg', 'no1486.jpg', 'no1304.jpg', 'no1397.jpg', 'no1469.jpg', 'no1281.jpg', 'no1490.jpg', 'no296.jpg', 'no1339.jpg', 'no177.jpg', 'no1338.jpg', 'no1377.jpg', 'no1174.jpg', 'no1243.jpg', 'no1100.jpg', 'no1391.jpg', 'no1366.jpg', 'no1238.jpg', 'no1168.jpg', 'no1171.jpg', 'no187.jpg', 'no26.jpg', 'no1157.jpg', 'no1158.jpg', 'no1448.jpg', 'no1258.jpg', 'no114.jpg', 'no1173.jpg', 'no1084.jpg', 'no1265.jpg', 'no273.jpg', 'no1187.jpg', 'no1248.jpg', 'no226.jpg', 'no25.jpg', 'no1228.jpg', 'no151.jpg', 'no1300.jpg', 'no1396.jpg', 'no1200.jpg', 'no1083.jpg', 'no193.jpg', 'no231.jpg', 'no1340.jpg', 'no249.jpg', 'no270.jpg', 'no117.jpg', 'no158.jpg', 'no268.jpg', 'no1284.jpg', 'no1405.jpg', 'no1398.jpg', 'no191.jpg', 'no1216.jpg', 'no1324.jpg', 'no1184.jpg', 'no1141.jpg', 'no1369.jpg', 'no1219.jpg', 'no1257.jpg', 'no1361.jpg', 'no1450.jpg', 'no1357.jpg', 'no1252.jpg', 'no1090.jpg', 'no1067.jpg', 'no1296.jpg', 'no1416.jpg', 'no207.jpg', 'no1351.jpg', 'no1062.jpg', 'no1212.jpg', 'no1305.jpg', 'no1322.jpg', 'no1128.jpg', 'no197.jpg', 'no1161.jpg', 'no119.jpg', 'no108.jpg', 'no1494.jpg', 'no1384.jpg', 'no1269.jpg', 'no1389.jpg', 'no138.jpg', 'no261.jpg', 'no1072.jpg', 'no1226.jpg', 'no1232.jpg', 'no283.jpg', 'no1399.jpg', 'no16.jpg', 'no157.jpg', 'no1137.jpg', 'no1492.jpg', 'no1260.jpg', 'no1123.jpg', 'no1274.jpg', 'no1427.jpg', 'no1347.jpg', 'no1412.jpg', 'no1203.jpg', 'no1455.jpg', 'no216.jpg', 'no1408.jpg', 'no171.jpg', 'no229.jpg', 'no1472.jpg', 'no1470.jpg', 'no1303.jpg', 'no127.jpg', 'no189.jpg', 'no174.jpg', 'no1440.jpg', 'no1457.jpg', 'no1342.jpg', 'no1223.jpg', 'no172.jpg', 'no1263.jpg', 'no287.jpg', 'no1239.jpg', 'no1370.jpg', 'no23.jpg', 'no1293.jpg', 'no1325.jpg', 'no1177.jpg', 'no289.jpg', 'no1231.jpg', 'no1066.jpg', 'no111.jpg', 'no24.jpg', 'no1484.jpg', 'no1089.jpg', 'no1162.jpg', 'no1428.jpg', 'no1336.jpg', 'no1360.jpg', 'no1385.jpg', 'no1255.jpg', 'no1194.jpg', 'no1442.jpg', 'no1091.jpg', 'no277.jpg', 'no1410.jpg', 'no1434.jpg', 'no1306.jpg', 'no106.jpg', 'no1060.jpg', 'no1093.jpg', 'no1395.jpg', 'no255.jpg', 'no1224.jpg', 'no204.jpg', 'no1261.jpg', 'no1496.jpg', 'no250.jpg', 'no1181.jpg', 'no1393.jpg', 'no123.jpg', 'no131.jpg', 'no113.jpg', 'no1426.jpg', 'no1054.jpg', 'no1189.jpg', 'no1319.jpg', 'no135.jpg', 'no263.jpg', 'no1423.jpg', 'no1383.jpg', 'no142.jpg', 'no1205.jpg', 'no1467.jpg', 'no1109.jpg', 'no1164.jpg', 'no1445.jpg', 'no1424.jpg', 'no1235.jpg', 'no280.jpg', 'no146.jpg', 'no1163.jpg', 'no1249.jpg', 'no1229.jpg', 'no1262.jpg', 'no290.jpg', 'no220.jpg', 'no1439.jpg', 'no1459.jpg', 'no225.jpg', 'no133.jpg', 'no1199.jpg', 'no1344.jpg', 'no1130.jpg', 'no1129.jpg', 'no1288.jpg', 'no1299.jpg', 'no11.jpg', 'no1425.jpg', 'no1302.jpg', 'no1121.jpg', 'no222.jpg', 'no1317.jpg', 'no1242.jpg', 'no1355.jpg', 'no155.jpg', 'no274.jpg', 'no214.jpg', 'no1289.jpg', 'no1321.jpg', 'no1381.jpg', 'no1051.jpg', 'no182.jpg', 'no281.jpg', 'no1436.jpg', 'no269.jpg', 'no1218.jpg', 'no198.jpg', 'no256.jpg', 'no1237.jpg', 'no1233.jpg', 'no1131.jpg', 'no259.jpg', 'no251.jpg', 'no139.jpg', 'no188.jpg', 'no152.jpg', 'no1343.jpg', 'no1094.jpg', 'no218.jpg', 'no1453.jpg', 'no165.jpg', 'no186.jpg', 'no1292.jpg', 'no1105.jpg', 'no223.jpg', 'no1178.jpg', 'no1307.jpg', 'no1417.jpg', 'no1144.jpg', 'no1099.jpg', 'no1143.jpg', 'no1103.jpg', 'no1102.jpg', 'no227.jpg', 'no1227.jpg', 'no213.jpg', 'no112.jpg', 'no1210.jpg', 'no1192.jpg', 'no29.jpg', 'no1170.jpg', 'no1308.jpg', 'no1458.jpg', 'no1241.jpg', 'no1055.jpg', 'no1065.jpg', 'no1334.jpg', 'no1206.jpg', 'no236.jpg', 'no1285.jpg', 'no1419.jpg', 'no1420.jpg', 'no244.jpg', 'no267.jpg', 'no1400.jpg', 'no1113.jpg', 'no195.jpg', 'no1264.jpg', 'no162.jpg', 'no1362.jpg', 'no1135.jpg', 'no202.jpg', 'no1497.jpg', 'no1215.jpg', 'no1086.jpg', 'no181.jpg', 'no1380.jpg', 'no21.jpg', 'no1279.jpg', 'no1413.jpg', 'no1499.jpg', 'no1124.jpg', 'no1451.jpg', 'no20.jpg', 'no1063.jpg', 'no275.jpg', 'no1309.jpg', 'no124.jpg', 'no1437.jpg', 'no1449.jpg', 'no1155.jpg', 'no1230.jpg', 'no292.jpg', 'no1140.jpg']\n"
          ]
        }
      ]
    },
    {
      "cell_type": "code",
      "source": [
        "\n",
        "tumor_df = pd.DataFrame(data=dataset, columns=['Tumor', 'image'])\n",
        "print(tumor_df.head())\n",
        "print(tumor_df.tail())"
      ],
      "metadata": {
        "colab": {
          "base_uri": "https://localhost:8080/"
        },
        "id": "iYLGAr45tBUq",
        "outputId": "75b86ba9-e929-40a0-abc5-a77ad9374853"
      },
      "execution_count": null,
      "outputs": [
        {
          "output_type": "stream",
          "name": "stdout",
          "text": [
            "  Tumor                                            image\n",
            "0   yes  /content/drive/MyDrive/BTdsYesNo//yes/y1279.jpg\n",
            "1   yes  /content/drive/MyDrive/BTdsYesNo//yes/y1406.jpg\n",
            "2   yes  /content/drive/MyDrive/BTdsYesNo//yes/y1320.jpg\n",
            "3   yes  /content/drive/MyDrive/BTdsYesNo//yes/y1388.jpg\n",
            "4   yes   /content/drive/MyDrive/BTdsYesNo//yes/y127.jpg\n",
            "     Tumor                                            image\n",
            "2995    no  /content/drive/MyDrive/BTdsYesNo//no/no1449.jpg\n",
            "2996    no  /content/drive/MyDrive/BTdsYesNo//no/no1155.jpg\n",
            "2997    no  /content/drive/MyDrive/BTdsYesNo//no/no1230.jpg\n",
            "2998    no   /content/drive/MyDrive/BTdsYesNo//no/no292.jpg\n",
            "2999    no  /content/drive/MyDrive/BTdsYesNo//no/no1140.jpg\n"
          ]
        }
      ]
    },
    {
      "cell_type": "code",
      "source": [
        "# Let's check how many samples for each category are present\n",
        "print(\"Total number of images are there in the dataset: \", len(tumor_df))\n",
        "\n",
        "images_count = tumor_df['Tumor'].value_counts()\n",
        "\n",
        "print(\"Images in each category: \")\n",
        "print(images_count)"
      ],
      "metadata": {
        "colab": {
          "base_uri": "https://localhost:8080/"
        },
        "id": "yEtXbOiitFI2",
        "outputId": "ebdfbfea-477c-45cf-8294-56523b6da74e"
      },
      "execution_count": null,
      "outputs": [
        {
          "output_type": "stream",
          "name": "stdout",
          "text": [
            "Total number of images are there in the dataset:  3000\n",
            "Images in each category: \n",
            "yes    1500\n",
            "no     1500\n",
            "Name: Tumor, dtype: int64\n"
          ]
        }
      ]
    },
    {
      "cell_type": "code",
      "source": [
        "import cv2\n",
        "from PIL import Image\n"
      ],
      "metadata": {
        "id": "M5OccVs8tPN6"
      },
      "execution_count": null,
      "outputs": []
    },
    {
      "cell_type": "code",
      "source": [
        "no_tumor = os.listdir(img_dir + 'no')\n",
        "\n",
        "#check if it did it perfectly\n",
        "print(no_tumor)"
      ],
      "metadata": {
        "colab": {
          "base_uri": "https://localhost:8080/"
        },
        "id": "Wqi1pwSXtQwa",
        "outputId": "7e70465a-5f76-4431-fd9a-2acd067d6654"
      },
      "execution_count": null,
      "outputs": [
        {
          "output_type": "stream",
          "name": "stdout",
          "text": [
            "['no1316.jpg', 'no1491.jpg', 'no1073.jpg', 'no1222.jpg', 'no1433.jpg', 'no1119.jpg', 'no252.jpg', 'no1352.jpg', 'no167.jpg', 'no266.jpg', 'no264.jpg', 'no1234.jpg', 'no1354.jpg', 'no1489.jpg', 'no282.jpg', 'no1270.jpg', 'no1335.jpg', 'no143.jpg', 'no1136.jpg', 'no265.jpg', 'no1213.jpg', 'no1111.jpg', 'no1148.jpg', 'no272.jpg', 'no1098.jpg', 'no1392.jpg', 'no109.jpg', 'no1247.jpg', 'no1126.jpg', 'no1287.jpg', 'no1388.jpg', 'no1313.jpg', 'no1240.jpg', 'no1122.jpg', 'no1488.jpg', 'no262.jpg', 'no1095.jpg', 'no271.jpg', 'no1064.jpg', 'no154.jpg', 'no235.jpg', 'no1466.jpg', 'no243.jpg', 'no1495.jpg', 'no288.jpg', 'no1373.jpg', 'no1185.jpg', 'no1471.jpg', 'no233.jpg', 'no1256.jpg', 'no1282.jpg', 'no1118.jpg', 'no1415.jpg', 'no1272.jpg', 'no1191.jpg', 'no1456.jpg', 'no254.jpg', 'no1461.jpg', 'no1176.jpg', 'no240.jpg', 'no22.jpg', 'no1190.jpg', 'no1402.jpg', 'no1298.jpg', 'no1418.jpg', 'no1244.jpg', 'no1333.jpg', 'no253.jpg', 'no184.jpg', 'no145.jpg', 'no230.jpg', 'no1314.jpg', 'no1052.jpg', 'no1394.jpg', 'no1476.jpg', 'no173.jpg', 'no1444.jpg', 'no247.jpg', 'no1236.jpg', 'no1080.jpg', 'no1332.jpg', 'no1188.jpg', 'no1225.jpg', 'no211.jpg', 'no1363.jpg', 'no1478.jpg', 'no1172.jpg', 'no1364.jpg', 'no228.jpg', 'no1404.jpg', 'no1142.jpg', 'no1474.jpg', 'no116.jpg', 'no1327.jpg', 'no1117.jpg', 'no1156.jpg', 'no1186.jpg', 'no1315.jpg', 'no1372.jpg', 'no1180.jpg', 'no1328.jpg', 'no1406.jpg', 'no118.jpg', 'no203.jpg', 'no166.jpg', 'no1195.jpg', 'no1050.jpg', 'no160.jpg', 'no1085.jpg', 'no1462.jpg', 'no153.jpg', 'no1345.jpg', 'no1276.jpg', 'no1165.jpg', 'no1320.jpg', 'no161.jpg', 'no1108.jpg', 'no156.jpg', 'no246.jpg', 'no1278.jpg', 'no1346.jpg', 'no129.jpg', 'no1348.jpg', 'no1311.jpg', 'no1291.jpg', 'no232.jpg', 'no179.jpg', 'no1386.jpg', 'no141.jpg', 'no1088.jpg', 'no1058.jpg', 'no1483.jpg', 'no1154.jpg', 'no1312.jpg', 'no1057.jpg', 'no1432.jpg', 'no1297.jpg', 'no1081.jpg', 'no1179.jpg', 'no1371.jpg', 'no1077.jpg', 'no122.jpg', 'no1443.jpg', 'no1268.jpg', 'no291.jpg', 'no1147.jpg', 'no168.jpg', 'no1356.jpg', 'no1097.jpg', 'no1464.jpg', 'no1498.jpg', 'no1430.jpg', 'no175.jpg', 'no1330.jpg', 'no169.jpg', 'no1378.jpg', 'no1070.jpg', 'no1326.jpg', 'no176.jpg', 'no1477.jpg', 'no234.jpg', 'no297.jpg', 'no1209.jpg', 'no1110.jpg', 'no1061.jpg', 'no194.jpg', 'no1331.jpg', 'no1120.jpg', 'no1441.jpg', 'no1202.jpg', 'no1374.jpg', 'no1375.jpg', 'no1301.jpg', 'no178.jpg', 'no1401.jpg', 'no1273.jpg', 'no1132.jpg', 'no217.jpg', 'no1104.jpg', 'no115.jpg', 'no137.jpg', 'no285.jpg', 'no1390.jpg', 'no1082.jpg', 'no237.jpg', 'no284.jpg', 'no1446.jpg', 'no1479.jpg', 'no1074.jpg', 'no257.jpg', 'no1429.jpg', 'no1323.jpg', 'no1475.jpg', 'no1107.jpg', 'no1125.jpg', 'no1350.jpg', 'no1341.jpg', 'no242.jpg', 'no241.jpg', 'no1087.jpg', 'no1175.jpg', 'no121.jpg', 'no1211.jpg', 'no1245.jpg', 'no1481.jpg', 'no1150.jpg', 'no293.jpg', 'no1153.jpg', 'no1414.jpg', 'no1182.jpg', 'no294.jpg', 'no1208.jpg', 'no1214.jpg', 'no1379.jpg', 'no1196.jpg', 'no147.jpg', 'no1167.jpg', 'no1485.jpg', 'no1056.jpg', 'no190.jpg', 'no107.jpg', 'no300.jpg', 'no694.jpg', 'no382.jpg', 'no371.jpg', 'no652.jpg', 'no451.jpg', 'no71.jpg', 'no790.jpg', 'no514.jpg', 'no762.jpg', 'no554.jpg', 'no754.jpg', 'no354.jpg', 'no728.jpg', 'no8.jpg', 'no714.jpg', 'no468.jpg', 'no358.jpg', 'no664.jpg', 'no758.jpg', 'no741.jpg', 'no309.jpg', 'no306.jpg', 'no574.jpg', 'no645.jpg', 'no742.jpg', 'no312.jpg', 'no765.jpg', 'no330.jpg', 'no380.jpg', 'no719.jpg', 'no646.jpg', 'no627.jpg', 'no414.jpg', 'no769.jpg', 'no512.jpg', 'no359.jpg', 'no598.jpg', 'no329.jpg', 'no781.jpg', 'no635.jpg', 'no718.jpg', 'no701.jpg', 'no555.jpg', 'no789.jpg', 'no617.jpg', 'no446.jpg', 'no729.jpg', 'no661.jpg', 'no483.jpg', 'no771.jpg', 'no493.jpg', 'no673.jpg', 'no684.jpg', 'no366.jpg', 'no649.jpg', 'no588.jpg', 'no469.jpg', 'no538.jpg', 'no67.jpg', 'no599.jpg', 'no545.jpg', 'no587.jpg', 'no784.jpg', 'no524.jpg', 'no751.jpg', 'no565.jpg', 'no415.jpg', 'no348.jpg', 'no53.jpg', 'no705.jpg', 'no750.jpg', 'no535.jpg', 'no625.jpg', 'no318.jpg', 'no63.jpg', 'no338.jpg', 'no695.jpg', 'no696.jpg', 'no55.jpg', 'no715.jpg', 'no778.jpg', 'no654.jpg', 'no700.jpg', 'no674.jpg', 'no76.jpg', 'no340.jpg', 'no801.jpg', 'no70.jpg', 'no494.jpg', 'no746.jpg', 'no679.jpg', 'no716.jpg', 'no482.jpg', 'no526.jpg', 'no780.jpg', 'no510.jpg', 'no795.jpg', 'no788.jpg', 'no365.jpg', 'no602.jpg', 'no543.jpg', 'no388.jpg', 'no710.jpg', 'no511.jpg', 'no774.jpg', 'no688.jpg', 'no417.jpg', 'no311.jpg', 'no59.jpg', 'no328.jpg', 'no62.jpg', 'no633.jpg', 'no419.jpg', 'no406.jpg', 'no389.jpg', 'no4.jpg', 'no744.jpg', 'no396.jpg', 'no726.jpg', 'no761.jpg', 'no764.jpg', 'no611.jpg', 'no394.jpg', 'no304.jpg', 'no786.jpg', 'no440.jpg', 'no671.jpg', 'no686.jpg', 'no513.jpg', 'no712.jpg', 'no717.jpg', 'no724.jpg', 'no605.jpg', 'no489.jpg', 'no473.jpg', 'no399.jpg', 'no775.jpg', 'no537.jpg', 'no585.jpg', 'no445.jpg', 'no313.jpg', 'no798.jpg', 'no560.jpg', 'no672.jpg', 'no31.jpg', 'no342.jpg', 'no458.jpg', 'no392.jpg', 'no376.jpg', 'no630.jpg', 'no657.jpg', 'no43.jpg', 'no386.jpg', 'no595.jpg', 'no474.jpg', 'no476.jpg', 'no41.jpg', 'no702.jpg', 'no48.jpg', 'no357.jpg', 'no655.jpg', 'no337.jpg', 'no678.jpg', 'no370.jpg', 'no693.jpg', 'no571.jpg', 'no39.jpg', 'no471.jpg', 'no541.jpg', 'no631.jpg', 'no408.jpg', 'no613.jpg', 'no777.jpg', 'no58.jpg', 'no416.jpg', 'no428.jpg', 'no316.jpg', 'no412.jpg', 'no378.jpg', 'no572.jpg', 'no372.jpg', 'no303.jpg', 'no723.jpg', 'no653.jpg', 'no637.jpg', 'no44.jpg', 'no785.jpg', 'no499.jpg', 'no622.jpg', 'no387.jpg', 'no498.jpg', 'no305.jpg', 'no642.jpg', 'no740.jpg', 'no566.jpg', 'no739.jpg', 'no748.jpg', 'no51.jpg', 'no413.jpg', 'no638.jpg', 'no548.jpg', 'no341.jpg', 'no40.jpg', 'no66.jpg', 'no659.jpg', 'no452.jpg', 'no69.jpg', 'no722.jpg', 'no620.jpg', 'no418.jpg', 'no713.jpg', 'no530.jpg', 'no743.jpg', 'no465.jpg', 'no607.jpg', 'no596.jpg', 'no608.jpg', 'no410.jpg', 'no544.jpg', 'no592.jpg', 'no320.jpg', 'no480.jpg', 'no299.jpg', 'no532.jpg', 'no464.jpg', 'no552.jpg', 'no670.jpg', 'no656.jpg', 'no332.jpg', 'no390.jpg', 'no760.jpg', 'no435.jpg', 'no644.jpg', 'no437.jpg', 'no590.jpg', 'no335.jpg', 'no578.jpg', 'no804.jpg', 'no350.jpg', 'no600.jpg', 'no47.jpg', 'no79.jpg', 'no461.jpg', 'no375.jpg', 'no793.jpg', 'no403.jpg', 'no490.jpg', 'no455.jpg', 'no343.jpg', 'no796.jpg', 'no401.jpg', 'no457.jpg', 'no449.jpg', 'no478.jpg', 'no703.jpg', 'no45.jpg', 'no315.jpg', 'no562.jpg', 'no711.jpg', 'no632.jpg', 'no690.jpg', 'no667.jpg', 'no487.jpg', 'no791.jpg', 'no523.jpg', 'no542.jpg', 'no505.jpg', 'no768.jpg', 'no409.jpg', 'no805.jpg', 'no666.jpg', 'no374.jpg', 'no453.jpg', 'no624.jpg', 'no699.jpg', 'no432.jpg', 'no57.jpg', 'no421.jpg', 'no612.jpg', 'no486.jpg', 'no586.jpg', 'no466.jpg', 'no651.jpg', 'no424.jpg', 'no640.jpg', 'no759.jpg', 'no80.jpg', 'no619.jpg', 'no509.jpg', 'no425.jpg', 'no687.jpg', 'no503.jpg', 'no772.jpg', 'no614.jpg', 'no325.jpg', 'no344.jpg', 'no352.jpg', 'no648.jpg', 'no747.jpg', 'no60.jpg', 'no68.jpg', 'no706.jpg', 'no369.jpg', 'no732.jpg', 'no34.jpg', 'no658.jpg', 'no364.jpg', 'no500.jpg', 'no327.jpg', 'no731.jpg', 'no423.jpg', 'no6.jpg', 'no479.jpg', 'no411.jpg', 'no677.jpg', 'no603.jpg', 'no569.jpg', 'no308.jpg', 'no49.jpg', 'no35.jpg', 'no634.jpg', 'no65.jpg', 'no314.jpg', 'no400.jpg', 'no692.jpg', 'no46.jpg', 'no488.jpg', 'no454.jpg', 'no501.jpg', 'no589.jpg', 'no326.jpg', 'no675.jpg', 'no460.jpg', 'no518.jpg', 'no582.jpg', 'no485.jpg', 'no515.jpg', 'no395.jpg', 'no475.jpg', 'no356.jpg', 'no579.jpg', 'no38.jpg', 'no450.jpg', 'no689.jpg', 'no668.jpg', 'no753.jpg', 'no381.jpg', 'no462.jpg', 'no349.jpg', 'no697.jpg', 'no737.jpg', 'no346.jpg', 'no779.jpg', 'no373.jpg', 'no546.jpg', 'no448.jpg', 'no496.jpg', 'no504.jpg', 'no669.jpg', 'no755.jpg', 'no787.jpg', 'no322.jpg', 'no749.jpg', 'no618.jpg', 'no682.jpg', 'no577.jpg', 'no528.jpg', 'no302.jpg', 'no522.jpg', 'no30.jpg', 'no639.jpg', 'no767.jpg', 'no797.jpg', 'no298.jpg', 'no776.jpg', 'no593.jpg', 'no360.jpg', 'no407.jpg', 'no36.jpg', 'no641.jpg', 'no665.jpg', 'no756.jpg', 'no301.jpg', 'no752.jpg', 'no738.jpg', 'no623.jpg', 'no564.jpg', 'no77.jpg', 'no492.jpg', 'no553.jpg', 'no643.jpg', 'no33.jpg', 'no567.jpg', 'no520.jpg', 'no50.jpg', 'no402.jpg', 'no570.jpg', 'no757.jpg', 'no507.jpg', 'no491.jpg', 'no72.jpg', 'no368.jpg', 'no597.jpg', 'no763.jpg', 'no502.jpg', 'no621.jpg', 'no324.jpg', 'no336.jpg', 'no438.jpg', 'no782.jpg', 'no591.jpg', 'no467.jpg', 'no363.jpg', 'no550.jpg', 'no339.jpg', 'no559.jpg', 'no539.jpg', 'no444.jpg', 'no766.jpg', 'no42.jpg', 'no547.jpg', 'no484.jpg', 'no601.jpg', 'no397.jpg', 'no516.jpg', 'no525.jpg', 'no584.jpg', 'no61.jpg', 'no735.jpg', 'no433.jpg', 'no377.jpg', 'no730.jpg', 'no429.jpg', 'no580.jpg', 'no362.jpg', 'no436.jpg', 'no317.jpg', 'no508.jpg', 'no472.jpg', 'no733.jpg', 'no3.jpg', 'no558.jpg', 'no379.jpg', 'no54.jpg', 'no727.jpg', 'no615.jpg', 'no75.jpg', 'no606.jpg', 'no323.jpg', 'no383.jpg', 'no441.jpg', 'no533.jpg', 'no576.jpg', 'no32.jpg', 'no398.jpg', 'no321.jpg', 'no430.jpg', 'no529.jpg', 'no685.jpg', 'no470.jpg', 'no725.jpg', 'no540.jpg', 'no704.jpg', 'no698.jpg', 'no563.jpg', 'no660.jpg', 'no536.jpg', 'no783.jpg', 'no447.jpg', 'no310.jpg', 'no7.jpg', 'no334.jpg', 'no628.jpg', 'no636.jpg', 'no650.jpg', 'no443.jpg', 'no319.jpg', 'no720.jpg', 'no736.jpg', 'no802.jpg', 'no721.jpg', 'no676.jpg', 'no459.jpg', 'no581.jpg', 'no663.jpg', 'no707.jpg', 'no531.jpg', 'no426.jpg', 'no56.jpg', 'no799.jpg', 'no708.jpg', 'no573.jpg', 'no367.jpg', 'no456.jpg', 'no709.jpg', 'no333.jpg', 'no52.jpg', 'no355.jpg', 'no78.jpg', 'no345.jpg', 'no439.jpg', 'no481.jpg', 'no506.jpg', 'no73.jpg', 'no792.jpg', 'no803.jpg', 'no5.jpg', 'no683.jpg', 'no594.jpg', 'no351.jpg', 'no680.jpg', 'no517.jpg', 'no331.jpg', 'no477.jpg', 'no404.jpg', 'no405.jpg', 'no662.jpg', 'no434.jpg', 'no745.jpg', 'no556.jpg', 'no806.jpg', 'no626.jpg', 'no353.jpg', 'no384.jpg', 'no37.jpg', 'no391.jpg', 'no551.jpg', 'no521.jpg', 'no629.jpg', 'no557.jpg', 'no534.jpg', 'no773.jpg', 'no681.jpg', 'no610.jpg', 'no800.jpg', 'no422.jpg', 'no442.jpg', 'no519.jpg', 'no347.jpg', 'no568.jpg', 'no770.jpg', 'no609.jpg', 'no691.jpg', 'no64.jpg', 'no431.jpg', 'no74.jpg', 'no549.jpg', 'no495.jpg', 'no463.jpg', 'no583.jpg', 'no497.jpg', 'no616.jpg', 'no561.jpg', 'no420.jpg', 'no794.jpg', 'no385.jpg', 'no393.jpg', 'no734.jpg', 'no427.jpg', 'no575.jpg', 'no604.jpg', 'no361.jpg', 'no647.jpg', 'no527.jpg', 'no307.jpg', 'no899.jpg', 'no835.jpg', 'no896.jpg', 'no861.jpg', 'no922.jpg', 'no889.jpg', 'no95.jpg', 'no851.jpg', 'no905.jpg', 'no812.jpg', 'no829.jpg', 'no862.jpg', 'no825.jpg', 'no863.jpg', 'no925.jpg', 'no848.jpg', 'no915.jpg', 'no893.jpg', 'no983.jpg', 'no818.jpg', 'no846.jpg', 'no948.jpg', 'no859.jpg', 'no849.jpg', 'no87.jpg', 'no949.jpg', 'no957.jpg', 'no852.jpg', 'no809.jpg', 'no864.jpg', 'no840.jpg', 'no810.jpg', 'no999.jpg', 'no974.jpg', 'no987.jpg', 'no892.jpg', 'no904.jpg', 'no900.jpg', 'no960.jpg', 'no943.jpg', 'no997.jpg', 'no985.jpg', 'no945.jpg', 'no867.jpg', 'no976.jpg', 'no950.jpg', 'no940.jpg', 'no853.jpg', 'no880.jpg', 'no89.jpg', 'no868.jpg', 'no919.jpg', 'no928.jpg', 'no910.jpg', 'no964.jpg', 'no992.jpg', 'no995.jpg', 'no916.jpg', 'no98.jpg', 'no962.jpg', 'no909.jpg', 'no927.jpg', 'no952.jpg', 'no980.jpg', 'no873.jpg', 'no932.jpg', 'no81.jpg', 'no85.jpg', 'no993.jpg', 'no954.jpg', 'no918.jpg', 'no870.jpg', 'no902.jpg', 'no882.jpg', 'no903.jpg', 'no838.jpg', 'no970.jpg', 'no941.jpg', 'no923.jpg', 'no929.jpg', 'no935.jpg', 'no963.jpg', 'no822.jpg', 'no886.jpg', 'no971.jpg', 'no979.jpg', 'no917.jpg', 'no989.jpg', 'no901.jpg', 'no841.jpg', 'no933.jpg', 'no920.jpg', 'no998.jpg', 'no942.jpg', 'no944.jpg', 'no934.jpg', 'no884.jpg', 'no878.jpg', 'no888.jpg', 'no938.jpg', 'no897.jpg', 'no872.jpg', 'no951.jpg', 'no885.jpg', 'no894.jpg', 'no982.jpg', 'no994.jpg', 'no907.jpg', 'no877.jpg', 'no99.jpg', 'no958.jpg', 'no843.jpg', 'no953.jpg', 'no88.jpg', 'no855.jpg', 'no937.jpg', 'no94.jpg', 'no912.jpg', 'no883.jpg', 'no811.jpg', 'no879.jpg', 'no847.jpg', 'no90.jpg', 'no842.jpg', 'no956.jpg', 'no815.jpg', 'no844.jpg', 'no955.jpg', 'no966.jpg', 'no881.jpg', 'no83.jpg', 'no854.jpg', 'no824.jpg', 'no967.jpg', 'no921.jpg', 'no874.jpg', 'no936.jpg', 'no986.jpg', 'no826.jpg', 'no947.jpg', 'no969.jpg', 'no887.jpg', 'no965.jpg', 'no831.jpg', 'no814.jpg', 'no898.jpg', 'no820.jpg', 'no991.jpg', 'no9.jpg', 'no807.jpg', 'no876.jpg', 'no856.jpg', 'no913.jpg', 'no871.jpg', 'no926.jpg', 'no816.jpg', 'no808.jpg', 'no908.jpg', 'no93.jpg', 'no911.jpg', 'no850.jpg', 'no914.jpg', 'no981.jpg', 'no978.jpg', 'no857.jpg', 'no895.jpg', 'no875.jpg', 'no833.jpg', 'no961.jpg', 'no988.jpg', 'no924.jpg', 'no91.jpg', 'no830.jpg', 'no866.jpg', 'no946.jpg', 'no834.jpg', 'no977.jpg', 'no823.jpg', 'no832.jpg', 'no931.jpg', 'no996.jpg', 'no817.jpg', 'no821.jpg', 'no891.jpg', 'no97.jpg', 'no819.jpg', 'no906.jpg', 'no813.jpg', 'no837.jpg', 'no860.jpg', 'no939.jpg', 'no839.jpg', 'no845.jpg', 'no92.jpg', 'no959.jpg', 'no890.jpg', 'no972.jpg', 'no836.jpg', 'no82.jpg', 'no975.jpg', 'no96.jpg', 'no828.jpg', 'no968.jpg', 'no827.jpg', 'no990.jpg', 'no865.jpg', 'no869.jpg', 'no84.jpg', 'no858.jpg', 'no930.jpg', 'no86.jpg', 'no973.jpg', 'no984.jpg', 'no103.jpg', 'no1038.jpg', 'No17.jpg', 'no0.jpg', 'no101.jpg', 'no1020.jpg', 'no1039.jpg', 'no1027.jpg', 'no1040.jpg', 'No19.jpg', 'no1018.jpg', 'no1034.jpg', 'no1014.jpg', 'no1007.jpg', 'no1030.jpg', 'no1026.jpg', 'no1028.jpg', 'no1006.jpg', 'no1010.jpg', 'no1037.jpg', 'no1035.jpg', 'no1009.jpg', 'no104.jpg', 'no105.jpg', 'no1002.jpg', 'no1041.jpg', 'No13.jpg', 'no1032.jpg', 'no1033.jpg', 'no1.jpg', 'no1022.jpg', 'no1024.jpg', 'no1000.jpg', 'No15.jpg', 'no1049.jpg', 'no1001.jpg', 'no1045.jpg', 'no1004.jpg', 'no1046.jpg', 'no1048.jpg', 'no1016.jpg', 'no1025.jpg', 'no1003.jpg', 'No18.jpg', 'no1029.jpg', 'no1012.jpg', 'no1011.jpg', 'no1047.jpg', 'no1017.jpg', 'no102.jpg', 'no1043.jpg', 'no100.jpg', 'no1013.jpg', 'No14.jpg', 'no1036.jpg', 'no1042.jpg', 'no1019.jpg', 'no10.jpg', 'no1005.jpg', 'No12.jpg', 'no1031.jpg', 'no1008.jpg', 'no1021.jpg', 'no1044.jpg', 'no1023.jpg', 'no1015.jpg', 'no1207.jpg', 'no126.jpg', 'no1069.jpg', 'no1294.jpg', 'no1197.jpg', 'no1337.jpg', 'no164.jpg', 'no1250.jpg', 'no27.jpg', 'no1290.jpg', 'no201.jpg', 'no1422.jpg', 'no180.jpg', 'no1463.jpg', 'no1460.jpg', 'no239.jpg', 'no1217.jpg', 'no200.jpg', 'no295.jpg', 'no1353.jpg', 'no1112.jpg', 'no219.jpg', 'no136.jpg', 'no1431.jpg', 'no1254.jpg', 'no1382.jpg', 'no1411.jpg', 'no1438.jpg', 'no1349.jpg', 'no1068.jpg', 'no148.jpg', 'no199.jpg', 'no1134.jpg', 'no1114.jpg', 'no1145.jpg', 'no1149.jpg', 'no1421.jpg', 'no1078.jpg', 'no1480.jpg', 'no1146.jpg', 'no1092.jpg', 'no1409.jpg', 'no1221.jpg', 'no212.jpg', 'no286.jpg', 'no1201.jpg', 'no1253.jpg', 'no1310.jpg', 'no1286.jpg', 'no1465.jpg', 'no1487.jpg', 'no1493.jpg', 'no120.jpg', 'no1359.jpg', 'no1280.jpg', 'no1447.jpg', 'no258.jpg', 'no1267.jpg', 'no1266.jpg', 'no134.jpg', 'no1358.jpg', 'no1452.jpg', 'no1259.jpg', 'no1329.jpg', 'no150.jpg', 'no1387.jpg', 'no1096.jpg', 'no125.jpg', 'no1246.jpg', 'no1151.jpg', 'no224.jpg', 'no1138.jpg', 'no1053.jpg', 'no210.jpg', 'no1152.jpg', 'no1283.jpg', 'no1435.jpg', 'no276.jpg', 'no1368.jpg', 'no1071.jpg', 'no1166.jpg', 'no140.jpg', 'no221.jpg', 'no1116.jpg', 'no2.jpg', 'no110.jpg', 'no206.jpg', 'no183.jpg', 'no1101.jpg', 'no238.jpg', 'no1318.jpg', 'no132.jpg', 'no1079.jpg', 'no1251.jpg', 'no1482.jpg', 'no209.jpg', 'no1115.jpg', 'no185.jpg', 'no1407.jpg', 'no208.jpg', 'no196.jpg', 'no245.jpg', 'no1271.jpg', 'no1075.jpg', 'no1454.jpg', 'no1106.jpg', 'no128.jpg', 'no215.jpg', 'no1365.jpg', 'no278.jpg', 'no159.jpg', 'no1473.jpg', 'no1295.jpg', 'no1169.jpg', 'no163.jpg', 'no130.jpg', 'no192.jpg', 'no1059.jpg', 'no279.jpg', 'no248.jpg', 'no170.jpg', 'no1127.jpg', 'no1468.jpg', 'no1159.jpg', 'no205.jpg', 'no1076.jpg', 'no1376.jpg', 'no1204.jpg', 'no144.jpg', 'no1133.jpg', 'no1183.jpg', 'no1277.jpg', 'no1367.jpg', 'no28.jpg', 'no149.jpg', 'no1160.jpg', 'no1193.jpg', 'no1403.jpg', 'no1220.jpg', 'no1275.jpg', 'no260.jpg', 'no1139.jpg', 'no1198.jpg', 'no1486.jpg', 'no1304.jpg', 'no1397.jpg', 'no1469.jpg', 'no1281.jpg', 'no1490.jpg', 'no296.jpg', 'no1339.jpg', 'no177.jpg', 'no1338.jpg', 'no1377.jpg', 'no1174.jpg', 'no1243.jpg', 'no1100.jpg', 'no1391.jpg', 'no1366.jpg', 'no1238.jpg', 'no1168.jpg', 'no1171.jpg', 'no187.jpg', 'no26.jpg', 'no1157.jpg', 'no1158.jpg', 'no1448.jpg', 'no1258.jpg', 'no114.jpg', 'no1173.jpg', 'no1084.jpg', 'no1265.jpg', 'no273.jpg', 'no1187.jpg', 'no1248.jpg', 'no226.jpg', 'no25.jpg', 'no1228.jpg', 'no151.jpg', 'no1300.jpg', 'no1396.jpg', 'no1200.jpg', 'no1083.jpg', 'no193.jpg', 'no231.jpg', 'no1340.jpg', 'no249.jpg', 'no270.jpg', 'no117.jpg', 'no158.jpg', 'no268.jpg', 'no1284.jpg', 'no1405.jpg', 'no1398.jpg', 'no191.jpg', 'no1216.jpg', 'no1324.jpg', 'no1184.jpg', 'no1141.jpg', 'no1369.jpg', 'no1219.jpg', 'no1257.jpg', 'no1361.jpg', 'no1450.jpg', 'no1357.jpg', 'no1252.jpg', 'no1090.jpg', 'no1067.jpg', 'no1296.jpg', 'no1416.jpg', 'no207.jpg', 'no1351.jpg', 'no1062.jpg', 'no1212.jpg', 'no1305.jpg', 'no1322.jpg', 'no1128.jpg', 'no197.jpg', 'no1161.jpg', 'no119.jpg', 'no108.jpg', 'no1494.jpg', 'no1384.jpg', 'no1269.jpg', 'no1389.jpg', 'no138.jpg', 'no261.jpg', 'no1072.jpg', 'no1226.jpg', 'no1232.jpg', 'no283.jpg', 'no1399.jpg', 'no16.jpg', 'no157.jpg', 'no1137.jpg', 'no1492.jpg', 'no1260.jpg', 'no1123.jpg', 'no1274.jpg', 'no1427.jpg', 'no1347.jpg', 'no1412.jpg', 'no1203.jpg', 'no1455.jpg', 'no216.jpg', 'no1408.jpg', 'no171.jpg', 'no229.jpg', 'no1472.jpg', 'no1470.jpg', 'no1303.jpg', 'no127.jpg', 'no189.jpg', 'no174.jpg', 'no1440.jpg', 'no1457.jpg', 'no1342.jpg', 'no1223.jpg', 'no172.jpg', 'no1263.jpg', 'no287.jpg', 'no1239.jpg', 'no1370.jpg', 'no23.jpg', 'no1293.jpg', 'no1325.jpg', 'no1177.jpg', 'no289.jpg', 'no1231.jpg', 'no1066.jpg', 'no111.jpg', 'no24.jpg', 'no1484.jpg', 'no1089.jpg', 'no1162.jpg', 'no1428.jpg', 'no1336.jpg', 'no1360.jpg', 'no1385.jpg', 'no1255.jpg', 'no1194.jpg', 'no1442.jpg', 'no1091.jpg', 'no277.jpg', 'no1410.jpg', 'no1434.jpg', 'no1306.jpg', 'no106.jpg', 'no1060.jpg', 'no1093.jpg', 'no1395.jpg', 'no255.jpg', 'no1224.jpg', 'no204.jpg', 'no1261.jpg', 'no1496.jpg', 'no250.jpg', 'no1181.jpg', 'no1393.jpg', 'no123.jpg', 'no131.jpg', 'no113.jpg', 'no1426.jpg', 'no1054.jpg', 'no1189.jpg', 'no1319.jpg', 'no135.jpg', 'no263.jpg', 'no1423.jpg', 'no1383.jpg', 'no142.jpg', 'no1205.jpg', 'no1467.jpg', 'no1109.jpg', 'no1164.jpg', 'no1445.jpg', 'no1424.jpg', 'no1235.jpg', 'no280.jpg', 'no146.jpg', 'no1163.jpg', 'no1249.jpg', 'no1229.jpg', 'no1262.jpg', 'no290.jpg', 'no220.jpg', 'no1439.jpg', 'no1459.jpg', 'no225.jpg', 'no133.jpg', 'no1199.jpg', 'no1344.jpg', 'no1130.jpg', 'no1129.jpg', 'no1288.jpg', 'no1299.jpg', 'no11.jpg', 'no1425.jpg', 'no1302.jpg', 'no1121.jpg', 'no222.jpg', 'no1317.jpg', 'no1242.jpg', 'no1355.jpg', 'no155.jpg', 'no274.jpg', 'no214.jpg', 'no1289.jpg', 'no1321.jpg', 'no1381.jpg', 'no1051.jpg', 'no182.jpg', 'no281.jpg', 'no1436.jpg', 'no269.jpg', 'no1218.jpg', 'no198.jpg', 'no256.jpg', 'no1237.jpg', 'no1233.jpg', 'no1131.jpg', 'no259.jpg', 'no251.jpg', 'no139.jpg', 'no188.jpg', 'no152.jpg', 'no1343.jpg', 'no1094.jpg', 'no218.jpg', 'no1453.jpg', 'no165.jpg', 'no186.jpg', 'no1292.jpg', 'no1105.jpg', 'no223.jpg', 'no1178.jpg', 'no1307.jpg', 'no1417.jpg', 'no1144.jpg', 'no1099.jpg', 'no1143.jpg', 'no1103.jpg', 'no1102.jpg', 'no227.jpg', 'no1227.jpg', 'no213.jpg', 'no112.jpg', 'no1210.jpg', 'no1192.jpg', 'no29.jpg', 'no1170.jpg', 'no1308.jpg', 'no1458.jpg', 'no1241.jpg', 'no1055.jpg', 'no1065.jpg', 'no1334.jpg', 'no1206.jpg', 'no236.jpg', 'no1285.jpg', 'no1419.jpg', 'no1420.jpg', 'no244.jpg', 'no267.jpg', 'no1400.jpg', 'no1113.jpg', 'no195.jpg', 'no1264.jpg', 'no162.jpg', 'no1362.jpg', 'no1135.jpg', 'no202.jpg', 'no1497.jpg', 'no1215.jpg', 'no1086.jpg', 'no181.jpg', 'no1380.jpg', 'no21.jpg', 'no1279.jpg', 'no1413.jpg', 'no1499.jpg', 'no1124.jpg', 'no1451.jpg', 'no20.jpg', 'no1063.jpg', 'no275.jpg', 'no1309.jpg', 'no124.jpg', 'no1437.jpg', 'no1449.jpg', 'no1155.jpg', 'no1230.jpg', 'no292.jpg', 'no1140.jpg']\n"
          ]
        }
      ]
    },
    {
      "cell_type": "code",
      "source": [
        "im_size = 64\n",
        "\n",
        "dataset = []\n",
        "label = []"
      ],
      "metadata": {
        "id": "AneQftRqtUTK"
      },
      "execution_count": null,
      "outputs": []
    },
    {
      "cell_type": "code",
      "source": [
        "for i , img_all in enumerate(no_tumor):\n",
        "    if( img_all.split('.')[1] == 'jpg' ):\n",
        "        image = cv2.imread( img_dir + 'no/' + img_all)  # selection of only .jpg format\n",
        "        image = Image.fromarray( image, 'RGB')\n",
        "        image = image.resize( (im_size,im_size) ) # resizing image \n",
        "        dataset.append( np.array(image))\n",
        "        label.append(0)"
      ],
      "metadata": {
        "id": "V0_zv1zjthUz"
      },
      "execution_count": null,
      "outputs": []
    },
    {
      "cell_type": "code",
      "source": [
        "yes_tumor = os.listdir(img_dir + 'yes')\n",
        "for i , img_all in enumerate(yes_tumor):\n",
        "    if( img_all.split('.')[1] == 'jpg' ):\n",
        "        image = cv2.imread( img_dir + 'yes/' + img_all)  # selection of only .jpg format\n",
        "        image = Image.fromarray( image, 'RGB')\n",
        "        image = image.resize( (im_size,im_size) ) # resizing image \n",
        "        dataset.append( np.array(image))\n",
        "        label.append(1)"
      ],
      "metadata": {
        "id": "qtr780qluNcw"
      },
      "execution_count": null,
      "outputs": []
    },
    {
      "cell_type": "code",
      "source": [
        "print(len(label))\n",
        "len(dataset)"
      ],
      "metadata": {
        "colab": {
          "base_uri": "https://localhost:8080/"
        },
        "id": "lP87q5CUu9lY",
        "outputId": "3f65456c-49b0-462b-a7a4-91e4652508e4"
      },
      "execution_count": null,
      "outputs": [
        {
          "output_type": "stream",
          "name": "stdout",
          "text": [
            "3000\n"
          ]
        },
        {
          "output_type": "execute_result",
          "data": {
            "text/plain": [
              "3000"
            ]
          },
          "metadata": {},
          "execution_count": 19
        }
      ]
    },
    {
      "cell_type": "code",
      "source": [
        "dataset = np.array(dataset)\n",
        "\n",
        "dataset = dataset.astype('float32') / 255.0\n",
        "dataset.shape "
      ],
      "metadata": {
        "colab": {
          "base_uri": "https://localhost:8080/"
        },
        "id": "I4pHukS6vH0p",
        "outputId": "a364aa70-9aab-4e34-8a65-a96489ce6e3d"
      },
      "execution_count": null,
      "outputs": [
        {
          "output_type": "execute_result",
          "data": {
            "text/plain": [
              "(3000, 64, 64, 3)"
            ]
          },
          "metadata": {},
          "execution_count": 20
        }
      ]
    },
    {
      "cell_type": "code",
      "source": [
        "from sklearn.preprocessing import LabelEncoder , OneHotEncoder\n",
        "from sklearn.compose import ColumnTransformer\n",
        "\n",
        "\n",
        "y=tumor_df['Tumor'].values\n",
        "#print(y[:5])\n",
        "\n",
        "y_labelencoder = LabelEncoder ()\n",
        "y = y_labelencoder.fit_transform (y)\n",
        "y"
      ],
      "metadata": {
        "colab": {
          "base_uri": "https://localhost:8080/"
        },
        "id": "ZqyG6vOxvb0E",
        "outputId": "36802f4d-ac51-4c80-f4f0-f86fa2d4df23"
      },
      "execution_count": null,
      "outputs": [
        {
          "output_type": "execute_result",
          "data": {
            "text/plain": [
              "array([1, 1, 1, ..., 0, 0, 0])"
            ]
          },
          "metadata": {},
          "execution_count": 21
        }
      ]
    },
    {
      "cell_type": "code",
      "source": [
        "y = y.reshape(-1,1)\n",
        "columnTransformer = ColumnTransformer([('encoder', OneHotEncoder(), [0])],remainder='passthrough')\n",
        "Y=np.array(columnTransformer.fit_transform(y)) #dtype=np.str\n",
        "Y.shape"
      ],
      "metadata": {
        "colab": {
          "base_uri": "https://localhost:8080/"
        },
        "id": "KRSBgEyYvbr1",
        "outputId": "804fe9a4-be21-4ce9-bcdc-c40e5f8c1dea"
      },
      "execution_count": null,
      "outputs": [
        {
          "output_type": "execute_result",
          "data": {
            "text/plain": [
              "(3000, 2)"
            ]
          },
          "metadata": {},
          "execution_count": 22
        }
      ]
    },
    {
      "cell_type": "code",
      "source": [
        "from sklearn.model_selection import train_test_split\n",
        "from sklearn.utils import shuffle\n",
        "\n",
        "\n",
        "images, Y = shuffle(dataset, Y, random_state=1)\n",
        "\n",
        "train_x, test_x, train_y, test_y = train_test_split(images, Y, test_size=0.2, random_state=0)"
      ],
      "metadata": {
        "id": "HtQRKqxpvkjc"
      },
      "execution_count": null,
      "outputs": []
    },
    {
      "cell_type": "code",
      "source": [
        "print(train_x.shape)\n",
        "print(train_y.shape)\n",
        "print(test_x.shape)\n",
        "print(test_y.shape)"
      ],
      "metadata": {
        "colab": {
          "base_uri": "https://localhost:8080/"
        },
        "id": "hrDmrZbjvpTk",
        "outputId": "f3282098-60e1-4bb3-b038-4d013c4f0419"
      },
      "execution_count": null,
      "outputs": [
        {
          "output_type": "stream",
          "name": "stdout",
          "text": [
            "(2400, 64, 64, 3)\n",
            "(2400, 2)\n",
            "(600, 64, 64, 3)\n",
            "(600, 2)\n"
          ]
        }
      ]
    },
    {
      "cell_type": "code",
      "source": [
        "import tensorflow.compat.v1 as tf\n",
        "tf.disable_v2_behavior()\n",
        "num_classes=2\n",
        "x = tf.placeholder(tf.float32, shape=[None, 227,227,3])\n",
        "\n",
        "y_ = tf.placeholder(tf.float32, [None, num_classes])"
      ],
      "metadata": {
        "colab": {
          "base_uri": "https://localhost:8080/"
        },
        "id": "1Gq3pM3TwKLE",
        "outputId": "00155a00-92bd-42b4-a515-969100dfe3e1"
      },
      "execution_count": null,
      "outputs": [
        {
          "output_type": "stream",
          "name": "stderr",
          "text": [
            "WARNING:tensorflow:From /usr/local/lib/python3.7/dist-packages/tensorflow/python/compat/v2_compat.py:107: disable_resource_variables (from tensorflow.python.ops.variable_scope) is deprecated and will be removed in a future version.\n",
            "Instructions for updating:\n",
            "non-resource variables are not supported in the long term\n"
          ]
        }
      ]
    },
    {
      "cell_type": "code",
      "source": [
        "import tensorflow as tf\n",
        "num_classes=2\n",
        "weights = {\n",
        "    'w1': tf.Variable(tf.random.normal([11, 11, 3, 96]),name='w1'),  # 11*11*3   96 filters\n",
        "    'w2': tf.Variable(tf.random.normal([5, 5, 96, 256]),name='w2'), # 5*5*96  256 filters \n",
        "    \n",
        "    'w3': tf.Variable(tf.random.normal([3, 3, 256, 384]),name='w3'), \n",
        "    'w4': tf.Variable(tf.random.normal([3, 3, 384, 384]),name='w4'),\n",
        "    \n",
        "    'w5': tf.Variable(tf.random.normal([3, 3, 384, 256]),name='w5'),  \n",
        "    \n",
        "\n",
        "    'wfc1': tf.Variable(tf.random.normal([6 * 6 * 256, 4096]),name='wfc1'),\n",
        "    'wfc2': tf.Variable(tf.random.normal([4096, 4096]),name='wfc2'), \n",
        "    \n",
        "    'wout': tf.Variable(tf.random.normal([4096, 2]),name='wout')\n",
        "}\n",
        "\n",
        "biases = {\n",
        "    'b1': tf.Variable(tf.random.normal([96]),name='b1'),\n",
        "    'b2': tf.Variable(tf.random.normal([256]),name='b2'),\n",
        "    \n",
        "    'b3': tf.Variable(tf.random.normal([384]),name='b3'),\n",
        "    'b4': tf.Variable(tf.random.normal([384]),name='b4'),\n",
        "    \n",
        "    'b5': tf.Variable(tf.random.normal([256]),name='b5'),\n",
        "    \n",
        "    'bfc1': tf.Variable(tf.random.normal([4096]),name='bfc1'),  #4096\n",
        "    'bfc2': tf.Variable(tf.random.normal([4096]),name='bfc2'),  #4096\n",
        "    'bout': tf.Variable(tf.random.normal([num_classes]),name='bout') # 2\n",
        "}"
      ],
      "metadata": {
        "id": "QUp9CgPnv7L7"
      },
      "execution_count": null,
      "outputs": []
    },
    {
      "cell_type": "code",
      "source": [
        "def alex_net(x, weights, biases):\n",
        "  # reshape input to 227*227*3 size\n",
        " x = tf.reshape(x, shape=[-1, 227, 227, 3])  \n",
        "    \n",
        " print(\"###########################################################################\")\n",
        " print(\"size of x is\")\n",
        " print(x.shape)\n",
        "    \n",
        "\n",
        "\n",
        " #conv1\n",
        " #kernel size=11*11, stride=4\n",
        " \n",
        " conv1_in = tf.nn.conv2d(x, weights['w1'], strides=[1, 4, 4, 1], padding=\"SAME\")\n",
        " conv1_in = tf.nn.bias_add(conv1_in,  biases['b1'])   # y= xw+b\n",
        " conv1 = tf.nn.relu(conv1_in)\n",
        " #maxpool1   #kernel size 3*3, stride 2\n",
        "\n",
        " maxpool1 = tf.nn.max_pool(conv1, ksize=[1, 3, 3, 1], strides=[1, 2, 2, 1], padding=\"VALID\")\n",
        " print(\"###########################################################################\")\n",
        " print(\"size after 1st conv layer) is \")\n",
        " print(maxpool1.shape)\n",
        "    \n",
        "\n",
        " #conv2\n",
        " # kernel 5*5, channels 256, stride 1\n",
        " conv2_in = tf.nn.conv2d(maxpool1,weights['w2'], strides=[1, 1, 1, 1], padding=\"SAME\")\n",
        " conv2_in = tf.nn.bias_add(conv2_in,  biases['b2'])   \n",
        " conv2 = tf.nn.relu(conv2_in)\n",
        "\n",
        " #maxpool2  \n",
        " #kernel 3*3 stride 2\n",
        " maxpool2 = tf.nn.max_pool(conv2, ksize=[1, 3, 3, 1], strides=[1, 2, 2, 1], padding=\"VALID\")\n",
        " print(\"###########################################################################\")\n",
        " print(\"size after 2nd conv layer) is \")\n",
        " print(maxpool2.shape)\n",
        " #conv3\n",
        " #kernel size=3*3, channels=384, stride 1   \n",
        " conv3_in = tf.nn.conv2d(maxpool2, weights['w3'],strides=[1, 1, 1, 1], padding=\"SAME\")\n",
        " conv3_in = tf.nn.bias_add(conv3_in,  biases['b3'])  \n",
        " conv3 = tf.nn.relu(conv3_in)\n",
        " print(\"###########################################################################\")\n",
        " print(\"size after 3rd conv layer) is \")\n",
        " print(conv3.shape)\n",
        "     \n",
        "\n",
        " #conv4\n",
        " # kernel=3*3,channels=384,stride=1   \n",
        " conv4_in = tf.nn.conv2d(conv3, weights['w4'], strides=[1, 1, 1, 1], padding=\"SAME\")\n",
        " conv4_in = tf.nn.bias_add(conv4_in,  biases['b4'])  \n",
        " conv4 = tf.nn.relu(conv4_in)\n",
        " print(\"###########################################################################\")\n",
        " print(\"size after 4th conv layer) is \")\n",
        " print(conv4.shape)\n",
        "\n",
        " #conv5\n",
        " # kernel 3*3, channels=256, stride 1   \n",
        " conv5_in = tf.nn.conv2d(conv4, weights['w5'],strides=[1, 1, 1, 1], padding=\"SAME\")\n",
        " conv5_in = tf.nn.bias_add(conv5_in,  biases['b5']) \n",
        " conv5 = tf.nn.relu(conv5_in)\n",
        " \n",
        " #maxpool5  # kernel 3*3, stride 2\n",
        " maxpool5 = tf.nn.max_pool(conv5, ksize=[1, 3, 3, 1], strides=[1, 2, 2, 1], padding=\"VALID\")\n",
        "\n",
        " print(\"###########################################################################\")\n",
        " print(\"size after 5th conv layer) is \")\n",
        " print(conv5.shape)\n",
        " print(\"###########################################################################\")\n",
        " print(\"size after 5th conv layer pooling) is \")\n",
        " print(maxpool5.shape)\n",
        " fc6 = tf.reshape(maxpool5, [-1, weights['wfc1'].get_shape().as_list()[0]])\n",
        " print(\"###########################################################################\")\n",
        " print(\"size after reshaping the image ) is \")\n",
        " print(fc6.shape) \n",
        "\n",
        " fc6 = tf.add(tf.matmul(fc6, weights['wfc1']), biases['bfc1'])\n",
        " fc6 = tf.nn.relu(fc6)\n",
        "      \n",
        "\n",
        " #fc7\n",
        " fc7 = tf.nn.relu_layer(fc6, weights['wfc2'], biases['bfc2'])\n",
        " print(\"###########################################################################\")\n",
        " print(\"size after 7th layer) is \")\n",
        " print(fc7.shape)\n",
        "\n",
        "\n",
        " fc8 = tf.add(tf.matmul(fc7, weights['wout']), biases['bout'])\n",
        " out = tf.nn.softmax(fc8)\n",
        "    \n",
        " return out   \n"
      ],
      "metadata": {
        "id": "rZNVSPVwwulC"
      },
      "execution_count": null,
      "outputs": []
    }
  ]
}